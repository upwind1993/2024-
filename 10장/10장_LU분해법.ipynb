{
  "nbformat": 4,
  "nbformat_minor": 0,
  "metadata": {
    "colab": {
      "provenance": [],
      "authorship_tag": "ABX9TyNj76dMXjT6pkHfKwGjV+xC",
      "include_colab_link": true
    },
    "kernelspec": {
      "name": "python3",
      "display_name": "Python 3"
    },
    "language_info": {
      "name": "python"
    }
  },
  "cells": [
    {
      "cell_type": "markdown",
      "metadata": {
        "id": "view-in-github",
        "colab_type": "text"
      },
      "source": [
        "<a href=\"https://colab.research.google.com/github/upwind1993/Numerical-Analysis/blob/main/10%EC%9E%A5/10%EC%9E%A5_LU%EB%B6%84%ED%95%B4%EB%B2%95.ipynb\" target=\"_parent\"><img src=\"https://colab.research.google.com/assets/colab-badge.svg\" alt=\"Open In Colab\"/></a>"
      ]
    },
    {
      "cell_type": "markdown",
      "source": [
        "Python SciPy linalg의 서브 모듈로\n",
        "L, U matrices와 permutation matrix, P를 생성\n",
        "\n",
        " \t\tfrom scipy.linalg import lu\n",
        "\t\tP,L,U = lu(A)\n",
        "\t\td = np.linalg.solve(L,b)\n",
        "\t\tx = np.linalg.solve(U,d)\n",
        "\n",
        "import scipy as sc로 scipy 모듈 전체를 가져오고, sc.linalg.lu(A)를 사용해 lu 함수를 호출\n",
        "\n",
        "\t\timport scipy as sc\n",
        "\t\tP,L,U = sc.linalg.lu(A)\n",
        "\t\td = np.linalg.solve(L,b)\n",
        "\t\tx = np.linalg.solve(U,d)\n"
      ],
      "metadata": {
        "id": "Cv-EPG3fL1Xy"
      }
    },
    {
      "cell_type": "markdown",
      "source": [
        "예제 10.4"
      ],
      "metadata": {
        "id": "XpAKnh5bMU5u"
      }
    },
    {
      "cell_type": "code",
      "source": [
        "import scipy as sc\n",
        "import numpy as np\n",
        "A = np.matrix(' 3 -0.1 -0.2 ; 0.1 7 -0.3 ; 0.3 -0.2 10 ')\n",
        "b = np.matrix(' 7.85 ; -19.3 ; 71.4 ')\n",
        "P,L,U = sc.linalg.lu(A)\n",
        "d = np.linalg.solve(L,b)\n",
        "x = np.linalg.solve(U,d)\n",
        "print(x)"
      ],
      "metadata": {
        "colab": {
          "base_uri": "https://localhost:8080/"
        },
        "id": "gTVatej-MXfd",
        "outputId": "064d1721-ebe2-465a-dfda-f661f1b13331"
      },
      "execution_count": 2,
      "outputs": [
        {
          "output_type": "stream",
          "name": "stdout",
          "text": [
            "[[ 3. ]\n",
            " [-2.5]\n",
            " [ 7. ]]\n"
          ]
        }
      ]
    },
    {
      "cell_type": "markdown",
      "source": [
        "예제 10.5 (파이썬을 사용한 Cholesky 분해법)\n",
        "\n",
        "Python’s SciPy’s linalg submodule has a Cholesky function that performs the factorization: <br> <br>\n",
        "\t\tfrom scipy.linalg import cholesky  <br>\n",
        "\t\tU = sc.linalg.cholesky(A)\n"
      ],
      "metadata": {
        "id": "mMr5IV4DMgc3"
      }
    },
    {
      "cell_type": "code",
      "source": [
        "import numpy as np\n",
        "from scipy.linalg import cholesky\n",
        "A = np.matrix(' 6 15 55 ; 15 55 225 ; 55 225 979')\n",
        "U = cholesky(A)\n",
        "print(U)\n"
      ],
      "metadata": {
        "colab": {
          "base_uri": "https://localhost:8080/"
        },
        "id": "m68vsvjvNh1W",
        "outputId": "8cc5aef4-50df-436d-b2d9-08d29f85c487"
      },
      "execution_count": 3,
      "outputs": [
        {
          "output_type": "stream",
          "name": "stdout",
          "text": [
            "[[ 2.44948974  6.12372436 22.45365598]\n",
            " [ 0.          4.18330013 20.91650066]\n",
            " [ 0.          0.          6.11010093]]\n"
          ]
        }
      ]
    }
  ]
}