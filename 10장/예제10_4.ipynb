{
  "nbformat": 4,
  "nbformat_minor": 0,
  "metadata": {
    "colab": {
      "provenance": [],
      "authorship_tag": "ABX9TyMh0RkIVPj0VaY7tVwm+sjK",
      "include_colab_link": true
    },
    "kernelspec": {
      "name": "python3",
      "display_name": "Python 3"
    },
    "language_info": {
      "name": "python"
    }
  },
  "cells": [
    {
      "cell_type": "markdown",
      "metadata": {
        "id": "view-in-github",
        "colab_type": "text"
      },
      "source": [
        "<a href=\"https://colab.research.google.com/github/upwind1993/Numerical-Analysis/blob/main/10%EC%9E%A5/%EC%98%88%EC%A0%9C10_4.ipynb\" target=\"_parent\"><img src=\"https://colab.research.google.com/assets/colab-badge.svg\" alt=\"Open In Colab\"/></a>"
      ]
    },
    {
      "cell_type": "code",
      "source": [
        "import numpy as np\n",
        "from scipy.linalg import lu\n",
        "\n",
        "# 계수 행렬 A와 우변 벡터 b 정의\n",
        "A = np.array([[3, -0.1, -0.2],\n",
        "              [0.1, 7, -0.3],\n",
        "              [0.3, -0.2, 10]])\n",
        "\n",
        "b = np.array([7.85, -19.3, 71.4])\n",
        "\n",
        "# LU 분해\n",
        "P, L, U = lu(A)\n",
        "d = np.linalg.solve(L, b)\n",
        "x = np.linalg.solve(U, d)\n",
        "\n",
        "# 결과 출력\n",
        "print(\"Solution x:\", x)"
      ],
      "metadata": {
        "colab": {
          "base_uri": "https://localhost:8080/"
        },
        "id": "aXFYl_OAXkGQ",
        "outputId": "0b36e2ab-2fd2-4e2d-a198-dd80d4d5d15e"
      },
      "execution_count": 4,
      "outputs": [
        {
          "output_type": "stream",
          "name": "stdout",
          "text": [
            "Solution x: [ 3.  -2.5  7. ]\n"
          ]
        }
      ]
    }
  ]
}