{
  "nbformat": 4,
  "nbformat_minor": 0,
  "metadata": {
    "colab": {
      "provenance": [],
      "authorship_tag": "ABX9TyNSvhl0QoV8BXODVtmlve6z",
      "include_colab_link": true
    },
    "kernelspec": {
      "name": "python3",
      "display_name": "Python 3"
    },
    "language_info": {
      "name": "python"
    }
  },
  "cells": [
    {
      "cell_type": "markdown",
      "metadata": {
        "id": "view-in-github",
        "colab_type": "text"
      },
      "source": [
        "<a href=\"https://colab.research.google.com/github/upwind1993/Numerical-Analysis/blob/main/10%EC%9E%A5/%EC%98%88%EC%A0%9C10_6.ipynb\" target=\"_parent\"><img src=\"https://colab.research.google.com/assets/colab-badge.svg\" alt=\"Open In Colab\"/></a>"
      ]
    },
    {
      "cell_type": "markdown",
      "source": [
        "우선, Scipy와 NumPy 모듈을 불러오고, A 매트릭스와 b 벡터를 생성한다."
      ],
      "metadata": {
        "id": "245mXRIacyJW"
      }
    },
    {
      "cell_type": "code",
      "execution_count": 3,
      "metadata": {
        "colab": {
          "base_uri": "https://localhost:8080/"
        },
        "id": "qnM_QI5fbNZL",
        "outputId": "fb0c7b11-1645-47d9-838e-c717fe07c5e6"
      },
      "outputs": [
        {
          "output_type": "stream",
          "name": "stdout",
          "text": [
            "[[  76]\n",
            " [ 295]\n",
            " [1259]]\n"
          ]
        }
      ],
      "source": [
        "import numpy as np\n",
        "from scipy.linalg import cholesky\n",
        "\n",
        "A = np.matrix(' 6 15 55 ; 15 55 225 ; 55 225 979')\n",
        "b = np.matrix( [[np.sum(A[0,:])], [np.sum(A[1,:])], [np.sum(A[2,:])] ])\n",
        "print(b)\n"
      ]
    },
    {
      "cell_type": "markdown",
      "source": [
        "Cheolesky 분해를 수행하면 다음과 같다"
      ],
      "metadata": {
        "id": "sKzcY4oBdCl1"
      }
    },
    {
      "cell_type": "code",
      "source": [
        "U = cholesky(A)\n",
        "print(U)"
      ],
      "metadata": {
        "colab": {
          "base_uri": "https://localhost:8080/"
        },
        "id": "V9xW9RULcb9X",
        "outputId": "1bbd9092-4bcc-44bf-cb7c-a78ff3054831"
      },
      "execution_count": 4,
      "outputs": [
        {
          "output_type": "stream",
          "name": "stdout",
          "text": [
            "[[ 2.44948974  6.12372436 22.45365598]\n",
            " [ 0.          4.18330013 20.91650066]\n",
            " [ 0.          0.          6.11010093]]\n"
          ]
        }
      ]
    },
    {
      "cell_type": "markdown",
      "source": [
        "원래의 행렬을 계산하여 이 분해가 제대로 되었는지를 확인한다."
      ],
      "metadata": {
        "id": "cZK3wRwddIAe"
      }
    },
    {
      "cell_type": "code",
      "source": [
        "Ut = U.transpose()\n",
        "Atest = Ut.dot(U)\n",
        "print('Atest = \\n', Atest)"
      ],
      "metadata": {
        "colab": {
          "base_uri": "https://localhost:8080/"
        },
        "id": "sJmYg_UxdRy_",
        "outputId": "ad93fc0d-7da2-4123-ad75-b655c8752db3"
      },
      "execution_count": 5,
      "outputs": [
        {
          "output_type": "stream",
          "name": "stdout",
          "text": [
            "Atest = \n",
            " [[  6.  15.  55.]\n",
            " [ 15.  55. 225.]\n",
            " [ 55. 225. 979.]]\n"
          ]
        }
      ]
    },
    {
      "cell_type": "markdown",
      "source": [
        "해를 구하기 위해서 다음의 명령어를 수행한다."
      ],
      "metadata": {
        "id": "m36S-1ktdf9v"
      }
    },
    {
      "cell_type": "code",
      "source": [
        "d = np.linalg.solve(Ut, b)\n",
        "x = np.linalg.solve(U, d)\n",
        "print('Solution is \\n', x)\n"
      ],
      "metadata": {
        "colab": {
          "base_uri": "https://localhost:8080/"
        },
        "id": "RFCdCszMdmEG",
        "outputId": "ac79ab93-2dd0-41fc-a348-ad24ac9380b3"
      },
      "execution_count": 6,
      "outputs": [
        {
          "output_type": "stream",
          "name": "stdout",
          "text": [
            "Solution is \n",
            " [[1.]\n",
            " [1.]\n",
            " [1.]]\n"
          ]
        }
      ]
    },
    {
      "cell_type": "code",
      "source": [
        "예상된 결과가 나옴"
      ],
      "metadata": {
        "id": "upJoq_oEd1Wm"
      },
      "execution_count": null,
      "outputs": []
    }
  ]
}