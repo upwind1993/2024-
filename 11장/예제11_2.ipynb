{
  "nbformat": 4,
  "nbformat_minor": 0,
  "metadata": {
    "colab": {
      "provenance": [],
      "authorship_tag": "ABX9TyPGMhVkft9Q72B7go1InGHS",
      "include_colab_link": true
    },
    "kernelspec": {
      "name": "python3",
      "display_name": "Python 3"
    },
    "language_info": {
      "name": "python"
    }
  },
  "cells": [
    {
      "cell_type": "markdown",
      "metadata": {
        "id": "view-in-github",
        "colab_type": "text"
      },
      "source": [
        "<a href=\"https://colab.research.google.com/github/upwind1993/Numerical-Analysis/blob/main/11%EC%9E%A5/%EC%98%88%EC%A0%9C11_2.ipynb\" target=\"_parent\"><img src=\"https://colab.research.google.com/assets/colab-badge.svg\" alt=\"Open In Colab\"/></a>"
      ]
    },
    {
      "cell_type": "code",
      "execution_count": 1,
      "metadata": {
        "colab": {
          "base_uri": "https://localhost:8080/"
        },
        "id": "b-YfB_5evqg_",
        "outputId": "3ada31ce-6ac2-4c5e-e0c0-602265ba0338"
      },
      "outputs": [
        {
          "output_type": "stream",
          "name": "stdout",
          "text": [
            "[[0.02 0.02 0.02]\n",
            " [0.02 0.03 0.03]\n",
            " [0.02 0.03 0.05]]\n"
          ]
        }
      ],
      "source": [
        "import numpy as np\n",
        "\n",
        "A = np.matrix('150. -100. 0. ; -100. 150. -50. ; 0. -50. 50. ')\n",
        "Ainv = np.linalg.inv(A)\n",
        "print(Ainv)"
      ]
    },
    {
      "cell_type": "code",
      "source": [],
      "metadata": {
        "id": "paeDEs4SwGAh"
      },
      "execution_count": null,
      "outputs": []
    }
  ]
}