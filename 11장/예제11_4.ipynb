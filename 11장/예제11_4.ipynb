{
  "nbformat": 4,
  "nbformat_minor": 0,
  "metadata": {
    "colab": {
      "provenance": [],
      "authorship_tag": "ABX9TyNISvsFJY6PbIqw2M00nZ8W",
      "include_colab_link": true
    },
    "kernelspec": {
      "name": "python3",
      "display_name": "Python 3"
    },
    "language_info": {
      "name": "python"
    }
  },
  "cells": [
    {
      "cell_type": "markdown",
      "metadata": {
        "id": "view-in-github",
        "colab_type": "text"
      },
      "source": [
        "<a href=\"https://colab.research.google.com/github/upwind1993/Numerical-Analysis/blob/main/11%EC%9E%A5/%EC%98%88%EC%A0%9C11_4.ipynb\" target=\"_parent\"><img src=\"https://colab.research.google.com/assets/colab-badge.svg\" alt=\"Open In Colab\"/></a>"
      ]
    },
    {
      "cell_type": "code",
      "execution_count": 3,
      "metadata": {
        "colab": {
          "base_uri": "https://localhost:8080/"
        },
        "id": "b-YfB_5evqg_",
        "outputId": "b701191e-e855-430b-b67c-04f4ffbff349"
      },
      "outputs": [
        {
          "output_type": "stream",
          "name": "stdout",
          "text": [
            "Frobenius norm =  2.231155654712498\n",
            "cond no. =  366.35032323670265\n"
          ]
        }
      ],
      "source": [
        "import numpy as np\n",
        "\n",
        "A = np.matrix([ [1., 1/2, 1/3] , [1., 2/3, 1/2] , [1., 3/4, 3/5] ])\n",
        "print('Frobenius norm = ',np.linalg.norm(A))\n",
        "print('cond no. = ',np.linalg.cond(A))"
      ]
    },
    {
      "cell_type": "code",
      "source": [
        "print('Frobenius norm = ', np.linalg.norm(A, 'fro'))\n",
        "print('cond no. = ', np.linalg.cond(A, 'fro'))\n",
        "\n",
        "print('2-norm = ', np.linalg.norm(A, 2))\n",
        "print('cond no. = ', np.linalg.cond(A, 2))"
      ],
      "metadata": {
        "colab": {
          "base_uri": "https://localhost:8080/"
        },
        "id": "paeDEs4SwGAh",
        "outputId": "34a5a7e4-e868-4235-fe82-4d76e29954d1"
      },
      "execution_count": 4,
      "outputs": [
        {
          "output_type": "stream",
          "name": "stdout",
          "text": [
            "Frobenius norm =  2.231155654712498\n",
            "cond no. =  368.08659043159474\n",
            "2-norm =  2.221599755938623\n",
            "cond no. =  366.35032323670265\n"
          ]
        }
      ]
    },
    {
      "cell_type": "code",
      "source": [],
      "metadata": {
        "id": "H08LvHHJ49Je"
      },
      "execution_count": null,
      "outputs": []
    }
  ]
}