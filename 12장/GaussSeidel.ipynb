{
  "nbformat": 4,
  "nbformat_minor": 0,
  "metadata": {
    "colab": {
      "provenance": [],
      "authorship_tag": "ABX9TyNdO88hWyoDIamGJ5tOjE4u",
      "include_colab_link": true
    },
    "kernelspec": {
      "name": "python3",
      "display_name": "Python 3"
    },
    "language_info": {
      "name": "python"
    }
  },
  "cells": [
    {
      "cell_type": "markdown",
      "metadata": {
        "id": "view-in-github",
        "colab_type": "text"
      },
      "source": [
        "<a href=\"https://colab.research.google.com/github/upwind1993/Numerical-Analysis/blob/main/12%EC%9E%A5/GaussSeidel.ipynb\" target=\"_parent\"><img src=\"https://colab.research.google.com/assets/colab-badge.svg\" alt=\"Open In Colab\"/></a>"
      ]
    },
    {
      "cell_type": "code",
      "execution_count": 25,
      "metadata": {
        "id": "b-YfB_5evqg_"
      },
      "outputs": [],
      "source": [
        "def GaussSeidel(A,b,es=1.e-7,maxit=50):\n",
        "    \"\"\"\n",
        "    Implements the Gauss-Seidel method\n",
        "    to solve a set of linear algebraic equations\n",
        "    without relaxation\n",
        "    Input:\n",
        "    A = coefficient matris\n",
        "    b = constant vector\n",
        "    es = stopping criterion (default = 1.e−7)\n",
        "    maxit = maximum number of iterations (default=50)\n",
        "    Output:\n",
        "    x = solution vector\n",
        "    \"\"\"\n",
        "    n,m = np.shape(A)\n",
        "    if n != m :\n",
        "        return 'Coefficient matrix must be square'\n",
        "    C = np.zeros((n,n))\n",
        "    x = np.zeros((n,1))\n",
        "    for i in range(n): # set up C matrix with zeros on the diagonal\n",
        "        for j in range(n):\n",
        "            if i != j:\n",
        "                C[i,j] = A[i,j]\n",
        "    d = np.zeros((n,1))\n",
        "    for i in range(n): # divide C elements by A pivots\n",
        "        C[i,0:n] = C[i,0:n]/A[i,i]\n",
        "        d[i] = b[i]/A[i,i]\n",
        "    ea = np.zeros((n,1))\n",
        "    xold = np.zeros((n,1))\n",
        "\n",
        "    # Gauss-Seidel iteration\n",
        "    print(\"Iter     |          값(x1. x2, x3)           |         Error(x1, x2, x3)     \")\n",
        "    print(\"-----------------------------------------------------------------------------\")\n",
        "\n",
        "    for it in range(maxit): # Gauss-Seidel method\n",
        "        for i in range(n):\n",
        "            xold[i] = x[i] # save the x's for convergence test\n",
        "        for i in range(n):\n",
        "            x[i] = d[i] - C[i,:].dot(x) # update the x's 1-by-1\n",
        "            if x[i] != 0:\n",
        "                ea[i] = abs((x[i]-xold[i])/x[i]) # compute change error\n",
        "\n",
        "        # Print iteration number, x values, and error values\n",
        "        print(f\"{it+1:>4} | {np.squeeze(x).T} | {np.squeeze(ea).T}\")\n",
        "\n",
        "        if np.max(ea) < es: # exit for loop if stopping criterion met\n",
        "            break\n",
        "    if it == maxit: # check for maximum iteration exit\n",
        "        return 'maximum iterations reached'\n",
        "    else:\n",
        "        return x"
      ]
    },
    {
      "cell_type": "code",
      "source": [
        "import numpy as np\n",
        "\n",
        "A=  np.matrix('3. -0.1, -0.2; 0.1, 7.0, -0.3; 0.3, -0.2, 10.0')\n",
        "b = np.matrix('7.87; -19.3; 71.4')\n",
        "x = GaussSeidel(A,b)\n",
        "print(x)"
      ],
      "metadata": {
        "colab": {
          "base_uri": "https://localhost:8080/"
        },
        "id": "H08LvHHJ49Je",
        "outputId": "dcd83aed-6d7a-4a1e-f6b9-1a817b9941fa"
      },
      "execution_count": 26,
      "outputs": [
        {
          "output_type": "stream",
          "name": "stdout",
          "text": [
            "Iter     |          값(x1. x2, x3)           |         Error(x1, x2, x3)     \n",
            "-----------------------------------------------------------------------------\n",
            "   1 | [ 2.62333333 -2.79461905  7.00540762] | [1. 1. 1.]\n",
            "   2 | [ 2.99720654 -2.49972834  7.00008924] | [0.12474055 0.1179691  0.00075976]\n",
            "   3 | [ 3.00668167 -2.50009163  6.99979772] | [3.15135839e-03 1.45310546e-04 4.16468805e-05]\n",
            "   4 | [ 3.00665013 -2.50010367  6.99979842] | [1.04915118e-05 4.81702831e-06 1.00784010e-07]\n",
            "   5 | [ 3.00664977 -2.50010364  6.99979843] | [1.17873552e-07 1.41183162e-08 1.61977233e-09]\n",
            "   6 | [ 3.00664977 -2.50010364  6.99979843] | [6.42724373e-10 1.83316867e-10 6.97265514e-12]\n",
            "[[ 3.00664977]\n",
            " [-2.50010364]\n",
            " [ 6.99979843]]\n"
          ]
        }
      ]
    },
    {
      "cell_type": "markdown",
      "source": [
        "이완법을 적용"
      ],
      "metadata": {
        "id": "OxdBIPcBcE7L"
      }
    },
    {
      "cell_type": "code",
      "source": [
        "import numpy as np\n",
        "\n",
        "def GaussSeidelRelaxation(A, b, omega=1.0, es=1.e-7, maxit=50):\n",
        "    \"\"\"\n",
        "    Implements the Gauss-Seidel method with relaxation\n",
        "    to solve a set of linear algebraic equations.\n",
        "\n",
        "    Input:\n",
        "    A = coefficient matrix (nxn)\n",
        "    b = constant vector (nx1)\n",
        "    omega = relaxation factor (default = 1.0, no relaxation)\n",
        "    es = stopping criterion (default = 1.e-7)\n",
        "    maxit = maximum number of iterations (default=50)\n",
        "\n",
        "    Output:\n",
        "    x = solution vector (nx1), ea = error at each iteration\n",
        "    \"\"\"\n",
        "    n, m = np.shape(A)\n",
        "    if n != m:\n",
        "        return 'Coefficient matrix must be square'\n",
        "\n",
        "    C = np.zeros((n, n))  # Initialize C matrix\n",
        "    x = np.zeros((n, 1))  # Initialize solution vector\n",
        "\n",
        "    # Set up C matrix with zeros on the diagonal\n",
        "    for i in range(n):\n",
        "        for j in range(n):\n",
        "            if i != j:\n",
        "                C[i, j] = A[i, j]\n",
        "\n",
        "    d = np.zeros((n, 1))  # Initialize d vector\n",
        "    for i in range(n):\n",
        "        C[i, :] = C[i, :] / A[i, i]  # Divide C elements by A pivots\n",
        "        d[i] = b[i] / A[i, i]\n",
        "\n",
        "    ea = np.zeros((n, 1))  # Initialize error array\n",
        "    xold = np.zeros((n, 1))  # Initialize old x for comparison\n",
        "\n",
        "    # Gauss-Seidel iteration with relaxation\n",
        "    print(\"Iter     |          값(x1. x2, x3)           |         Error(x1, x2, x3)     \")\n",
        "    print(\"-----------------------------------------------------------------------------\")\n",
        "\n",
        "    for it in range(maxit):\n",
        "        for i in range(n):\n",
        "            xold[i] = x[i]  # Save previous iteration\n",
        "\n",
        "        for i in range(n):\n",
        "            # Calculate new x with relaxation\n",
        "            x_new = d[i] - C[i, :].dot(x)  # Standard Gauss-Seidel update\n",
        "            x[i] = omega * x_new + (1 - omega) * xold[i]  # Apply relaxation\n",
        "\n",
        "            if x[i] != 0:\n",
        "                ea[i] = abs((x[i] - xold[i]) / x[i])  # Calculate error\n",
        "\n",
        "        # Print iteration number, x values, and error values\n",
        "        print(f\"{it+1:>4} | {np.squeeze(x).T} | {np.squeeze(ea).T}\")\n",
        "\n",
        "        if np.max(ea) < es:  # Check if error is below stopping criterion\n",
        "            break\n",
        "\n",
        "    if it == maxit - 1:  # If maximum iterations reached\n",
        "        return 'Maximum iterations reached'\n",
        "    else:\n",
        "        return x  # Return solution vector\n",
        "\n"
      ],
      "metadata": {
        "id": "fOAmQzZpcGzr"
      },
      "execution_count": 28,
      "outputs": []
    },
    {
      "cell_type": "code",
      "source": [
        "import numpy as np\n",
        "\n",
        "A=  np.matrix('3. -0.1, -0.2; 0.1, 7.0, -0.3; 0.3, -0.2, 10.0')\n",
        "b = np.matrix('7.87; -19.3; 71.4')\n",
        "x = GaussSeidelRelaxation(A,b, 1.2)\n",
        "print(x)"
      ],
      "metadata": {
        "colab": {
          "base_uri": "https://localhost:8080/"
        },
        "id": "OJzRFuNScNcR",
        "outputId": "3b57e047-d7ed-47bc-a2e2-c7c4df5f0cba"
      },
      "execution_count": 36,
      "outputs": [
        {
          "output_type": "stream",
          "name": "stdout",
          "text": [
            "Iter     |          값(x1. x2, x3)           |         Error(x1, x2, x3)     \n",
            "-----------------------------------------------------------------------------\n",
            "   1 | [ 3.148      -3.36253714  8.37397111] | [1. 1. 1.]\n",
            "   2 | [ 3.0538162  -2.25775376  6.7290823 ] | [0.03084134 0.48932855 0.24444474]\n",
            "   3 | [ 2.98525319 -2.56212935  7.05322332] | [0.02296723 0.1187979  0.04595644]\n",
            "   4 | [ 3.01272205 -2.48505502  6.98925602] | [0.00911762 0.03101514 0.00915223]\n",
            "   5 | [ 3.00519387 -2.50363058  7.00187468] | [0.00250506 0.00741945 0.00180218]\n",
            "   6 | [ 3.00696598 -2.49929689  6.99939116] | [0.00058933 0.00173396 0.00035482]\n",
            "   7 | [ 3.00658622 -2.50028484  6.99987783] | [1.26307786e-04 3.95135883e-04 6.95246722e-05]\n",
            "   8 | [ 3.00666159 -2.50006351  6.99978309] | [2.50663716e-05 8.85285135e-05 1.35338731e-05]\n",
            "   9 | [ 3.00664779 -2.50011241  6.99980136] | [4.58945580e-06 1.95594695e-05 2.61007033e-06]\n",
            "  10 | [ 3.00665005 -2.50010173  6.99979788] | [7.53442666e-07 4.27220166e-06 4.97043554e-07]\n",
            "  11 | [ 3.00664975 -2.50010404  6.99979854] | [1.01164590e-07 9.23923143e-07 9.30531328e-08]\n",
            "  12 | [ 3.00664977 -2.50010355  6.99979842] | [6.83331765e-09 1.98042499e-07 1.70186658e-08]\n",
            "  13 | [ 3.00664978 -2.50010365  6.99979844] | [2.05072559e-09 4.21012917e-08 3.01112891e-09]\n",
            "[[ 3.00664978]\n",
            " [-2.50010365]\n",
            " [ 6.99979844]]\n"
          ]
        }
      ]
    },
    {
      "cell_type": "code",
      "source": [],
      "metadata": {
        "id": "yzV_FQHRcoDO"
      },
      "execution_count": null,
      "outputs": []
    }
  ]
}