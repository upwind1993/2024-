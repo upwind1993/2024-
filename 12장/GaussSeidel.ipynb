{
  "nbformat": 4,
  "nbformat_minor": 0,
  "metadata": {
    "colab": {
      "provenance": [],
      "authorship_tag": "ABX9TyNfP+PrPr+8psfokeyTSqkA",
      "include_colab_link": true
    },
    "kernelspec": {
      "name": "python3",
      "display_name": "Python 3"
    },
    "language_info": {
      "name": "python"
    }
  },
  "cells": [
    {
      "cell_type": "markdown",
      "metadata": {
        "id": "view-in-github",
        "colab_type": "text"
      },
      "source": [
        "<a href=\"https://colab.research.google.com/github/upwind1993/Numerical-Analysis/blob/main/12%EC%9E%A5/GaussSeidel.ipynb\" target=\"_parent\"><img src=\"https://colab.research.google.com/assets/colab-badge.svg\" alt=\"Open In Colab\"/></a>"
      ]
    },
    {
      "cell_type": "markdown",
      "source": [
        "# **교과서 12장 반복법의 코드 입니다**. <br>\n",
        "1. Gauss-Seidel 방법 <br>\n",
        "2. 이완법 적용 <br>\n",
        "3. 뉴튼-랩슨 적용"
      ],
      "metadata": {
        "id": "aHoSRvNOzQSO"
      }
    },
    {
      "cell_type": "markdown",
      "source": [
        "# **1. Gauss-Seidel 실습**"
      ],
      "metadata": {
        "id": "MHuczD0gz4zy"
      }
    },
    {
      "cell_type": "code",
      "execution_count": null,
      "metadata": {
        "id": "b-YfB_5evqg_"
      },
      "outputs": [],
      "source": [
        "def GaussSeidel(A,b,es=1.e-7,maxit=50):\n",
        "    \"\"\"\n",
        "    Implements the Gauss-Seidel method\n",
        "    to solve a set of linear algebraic equations\n",
        "    without relaxation\n",
        "    Input:\n",
        "    A = coefficient matris\n",
        "    b = constant vector\n",
        "    es = stopping criterion (default = 1.e−7)\n",
        "    maxit = maximum number of iterations (default=50)\n",
        "    Output:\n",
        "    x = solution vector\n",
        "    \"\"\"\n",
        "    n,m = np.shape(A)\n",
        "    if n != m :\n",
        "        return 'Coefficient matrix must be square'\n",
        "    C = np.zeros((n,n))\n",
        "    x = np.zeros((n,1))\n",
        "    for i in range(n): # set up C matrix with zeros on the diagonal\n",
        "        for j in range(n):\n",
        "            if i != j:\n",
        "                C[i,j] = A[i,j]\n",
        "    d = np.zeros((n,1))\n",
        "    for i in range(n): # divide C elements by A pivots\n",
        "        C[i,0:n] = C[i,0:n]/A[i,i]\n",
        "        d[i] = b[i]/A[i,i]\n",
        "    ea = np.zeros((n,1))\n",
        "    xold = np.zeros((n,1))\n",
        "\n",
        "    # Gauss-Seidel iteration\n",
        "    print(\"Iter     |          값(x1. x2, x3)           |         Error(x1, x2, x3)     \")\n",
        "    print(\"-----------------------------------------------------------------------------\")\n",
        "\n",
        "    for it in range(maxit): # Gauss-Seidel method\n",
        "        for i in range(n):\n",
        "            xold[i] = x[i] # save the x's for convergence test\n",
        "        for i in range(n):\n",
        "            x[i] = d[i] - C[i,:].dot(x) # update the x's 1-by-1\n",
        "            if x[i] != 0:\n",
        "                ea[i] = abs((x[i]-xold[i])/x[i]) # compute change error\n",
        "\n",
        "        # Print iteration number, x values, and error values\n",
        "        print(f\"{it+1:>4} | {np.squeeze(x).T} | {np.squeeze(ea).T}\")\n",
        "\n",
        "        if np.max(ea) < es: # exit for loop if stopping criterion met\n",
        "            break\n",
        "    if it == maxit: # check for maximum iteration exit\n",
        "        return 'maximum iterations reached'\n",
        "    else:\n",
        "        return x"
      ]
    },
    {
      "cell_type": "code",
      "source": [
        "import numpy as np\n",
        "\n",
        "A=  np.matrix('3. -0.1, -0.2; 0.1, 7.0, -0.3; 0.3, -0.2, 10.0')\n",
        "b = np.matrix('7.87; -19.3; 71.4')\n",
        "x = GaussSeidel(A,b)\n",
        "print(x)"
      ],
      "metadata": {
        "colab": {
          "base_uri": "https://localhost:8080/"
        },
        "id": "H08LvHHJ49Je",
        "outputId": "dcd83aed-6d7a-4a1e-f6b9-1a817b9941fa"
      },
      "execution_count": null,
      "outputs": [
        {
          "output_type": "stream",
          "name": "stdout",
          "text": [
            "Iter     |          값(x1. x2, x3)           |         Error(x1, x2, x3)     \n",
            "-----------------------------------------------------------------------------\n",
            "   1 | [ 2.62333333 -2.79461905  7.00540762] | [1. 1. 1.]\n",
            "   2 | [ 2.99720654 -2.49972834  7.00008924] | [0.12474055 0.1179691  0.00075976]\n",
            "   3 | [ 3.00668167 -2.50009163  6.99979772] | [3.15135839e-03 1.45310546e-04 4.16468805e-05]\n",
            "   4 | [ 3.00665013 -2.50010367  6.99979842] | [1.04915118e-05 4.81702831e-06 1.00784010e-07]\n",
            "   5 | [ 3.00664977 -2.50010364  6.99979843] | [1.17873552e-07 1.41183162e-08 1.61977233e-09]\n",
            "   6 | [ 3.00664977 -2.50010364  6.99979843] | [6.42724373e-10 1.83316867e-10 6.97265514e-12]\n",
            "[[ 3.00664977]\n",
            " [-2.50010364]\n",
            " [ 6.99979843]]\n"
          ]
        }
      ]
    },
    {
      "cell_type": "markdown",
      "source": [
        "# **2. 이완법을 적용**"
      ],
      "metadata": {
        "id": "OxdBIPcBcE7L"
      }
    },
    {
      "cell_type": "code",
      "source": [
        "import numpy as np\n",
        "\n",
        "def GaussSeidelRelaxation(A, b, omega=1.0, es=1.e-7, maxit=50):\n",
        "    \"\"\"\n",
        "    Implements the Gauss-Seidel method with relaxation\n",
        "    to solve a set of linear algebraic equations.\n",
        "\n",
        "    Input:\n",
        "    A = coefficient matrix (nxn)\n",
        "    b = constant vector (nx1)\n",
        "    omega = relaxation factor (default = 1.0, no relaxation)\n",
        "    es = stopping criterion (default = 1.e-7)\n",
        "    maxit = maximum number of iterations (default=50)\n",
        "\n",
        "    Output:\n",
        "    x = solution vector (nx1), ea = error at each iteration\n",
        "    \"\"\"\n",
        "    n, m = np.shape(A)\n",
        "    if n != m:\n",
        "        return 'Coefficient matrix must be square'\n",
        "\n",
        "    C = np.zeros((n, n))  # Initialize C matrix\n",
        "    x = np.zeros((n, 1))  # Initialize solution vector\n",
        "\n",
        "    # Set up C matrix with zeros on the diagonal\n",
        "    for i in range(n):\n",
        "        for j in range(n):\n",
        "            if i != j:\n",
        "                C[i, j] = A[i, j]\n",
        "\n",
        "    d = np.zeros((n, 1))  # Initialize d vector\n",
        "    for i in range(n):\n",
        "        C[i, :] = C[i, :] / A[i, i]  # Divide C elements by A pivots\n",
        "        d[i] = b[i] / A[i, i]\n",
        "\n",
        "    ea = np.zeros((n, 1))  # Initialize error array\n",
        "    xold = np.zeros((n, 1))  # Initialize old x for comparison\n",
        "\n",
        "    # Gauss-Seidel iteration with relaxation\n",
        "    print(\"Iter     |          값(x1. x2, x3)           |         Error(x1, x2, x3)     \")\n",
        "    print(\"-----------------------------------------------------------------------------\")\n",
        "\n",
        "    for it in range(maxit):\n",
        "        for i in range(n):\n",
        "            xold[i] = x[i]  # Save previous iteration\n",
        "\n",
        "        for i in range(n):\n",
        "            # Calculate new x with relaxation\n",
        "            x_new = d[i] - C[i, :].dot(x)  # Standard Gauss-Seidel update\n",
        "            x[i] = omega * x_new + (1 - omega) * xold[i]  # Apply relaxation\n",
        "\n",
        "            if x[i] != 0:\n",
        "                ea[i] = abs((x[i] - xold[i]) / x[i])  # Calculate error\n",
        "\n",
        "        # Print iteration number, x values, and error values\n",
        "        print(f\"{it+1:>4} | {np.squeeze(x).T} | {np.squeeze(ea).T}\")\n",
        "\n",
        "        if np.max(ea) < es:  # Check if error is below stopping criterion\n",
        "            break\n",
        "\n",
        "    if it == maxit - 1:  # If maximum iterations reached\n",
        "        return 'Maximum iterations reached'\n",
        "    else:\n",
        "        return x  # Return solution vector\n",
        "\n"
      ],
      "metadata": {
        "id": "fOAmQzZpcGzr"
      },
      "execution_count": null,
      "outputs": []
    },
    {
      "cell_type": "code",
      "source": [
        "import numpy as np\n",
        "\n",
        "A=  np.matrix('3. -0.1, -0.2; 0.1, 7.0, -0.3; 0.3, -0.2, 10.0')\n",
        "b = np.matrix('7.87; -19.3; 71.4')\n",
        "x = GaussSeidelRelaxation(A,b, 1.2)\n",
        "print(x)"
      ],
      "metadata": {
        "colab": {
          "base_uri": "https://localhost:8080/"
        },
        "id": "OJzRFuNScNcR",
        "outputId": "3b57e047-d7ed-47bc-a2e2-c7c4df5f0cba"
      },
      "execution_count": null,
      "outputs": [
        {
          "output_type": "stream",
          "name": "stdout",
          "text": [
            "Iter     |          값(x1. x2, x3)           |         Error(x1, x2, x3)     \n",
            "-----------------------------------------------------------------------------\n",
            "   1 | [ 3.148      -3.36253714  8.37397111] | [1. 1. 1.]\n",
            "   2 | [ 3.0538162  -2.25775376  6.7290823 ] | [0.03084134 0.48932855 0.24444474]\n",
            "   3 | [ 2.98525319 -2.56212935  7.05322332] | [0.02296723 0.1187979  0.04595644]\n",
            "   4 | [ 3.01272205 -2.48505502  6.98925602] | [0.00911762 0.03101514 0.00915223]\n",
            "   5 | [ 3.00519387 -2.50363058  7.00187468] | [0.00250506 0.00741945 0.00180218]\n",
            "   6 | [ 3.00696598 -2.49929689  6.99939116] | [0.00058933 0.00173396 0.00035482]\n",
            "   7 | [ 3.00658622 -2.50028484  6.99987783] | [1.26307786e-04 3.95135883e-04 6.95246722e-05]\n",
            "   8 | [ 3.00666159 -2.50006351  6.99978309] | [2.50663716e-05 8.85285135e-05 1.35338731e-05]\n",
            "   9 | [ 3.00664779 -2.50011241  6.99980136] | [4.58945580e-06 1.95594695e-05 2.61007033e-06]\n",
            "  10 | [ 3.00665005 -2.50010173  6.99979788] | [7.53442666e-07 4.27220166e-06 4.97043554e-07]\n",
            "  11 | [ 3.00664975 -2.50010404  6.99979854] | [1.01164590e-07 9.23923143e-07 9.30531328e-08]\n",
            "  12 | [ 3.00664977 -2.50010355  6.99979842] | [6.83331765e-09 1.98042499e-07 1.70186658e-08]\n",
            "  13 | [ 3.00664978 -2.50010365  6.99979844] | [2.05072559e-09 4.21012917e-08 3.01112891e-09]\n",
            "[[ 3.00664978]\n",
            " [-2.50010365]\n",
            " [ 6.99979844]]\n"
          ]
        }
      ]
    },
    {
      "cell_type": "markdown",
      "source": [
        "**예제 12.2를 적용함** <br>\n",
        "\n",
        "\\begin{align}\n",
        "-3x_1 + 12x_2 &= 9, \\\n",
        "10x_1 - 2x_2 &= 8.\n",
        "\\end{align}을 푼다. <br>\n",
        "\n",
        "초기값 $x_1 = 1.5 와 \\space \\space\n",
        " x_2 = 3.5$로 가정"
      ],
      "metadata": {
        "id": "v3yYKr87sZQz"
      }
    },
    {
      "cell_type": "code",
      "source": [
        "x = np.matrix([[1.5], [3.5]])\n",
        "f = np.matrix([[x[0, 0]**2 + x[0, 0] * x[1, 0] - 10],\n",
        "               [x[1, 0] + 3 * x[0, 0] * x[1, 0]**2 - 57]])\n",
        "print('Funtion values are: \\n', f)\n",
        "\n",
        "J = np.matrix([[2 * x[0, 0] + x[1, 0], x[0, 0]],\n",
        "               [3 * x[1, 0]**2, 1 + 6 * x[0, 0] * x[1, 0]]])\n",
        "print('Jacobian matrix is: \\n', J)\n",
        "\n",
        "xnew = x -np.linalg.inv(J)*f\n",
        "print('New x values for x: \\n', xnew)"
      ],
      "metadata": {
        "colab": {
          "base_uri": "https://localhost:8080/"
        },
        "id": "IiLVbN3UosZ4",
        "outputId": "2dbdaa16-5e15-487a-f081-92d5fed6b2c2"
      },
      "execution_count": null,
      "outputs": [
        {
          "output_type": "stream",
          "name": "stdout",
          "text": [
            "Funtion values are: \n",
            " [[-2.5  ]\n",
            " [ 1.625]]\n",
            "Jacobian matrix is: \n",
            " [[ 6.5   1.5 ]\n",
            " [36.75 32.5 ]]\n",
            "New x values for x: \n",
            " [[2.03602882]\n",
            " [2.8438751 ]]\n"
          ]
        }
      ]
    },
    {
      "cell_type": "markdown",
      "source": [
        "## **3. 뉴튼 랩슨 방법**.<br>\n",
        "교과서에는 코드 연결이 없으므로 새롭게 작성함"
      ],
      "metadata": {
        "id": "EM84ygMUvakS"
      }
    },
    {
      "cell_type": "code",
      "source": [
        "def newtmult(fandJ,x0,es=1.e-7,maxit=50):\n",
        "    \"\"\"\n",
        "    Newton-Raphson solution of sets of nonlinear algebraic equations\n",
        "    Input:\n",
        "    fandJ = function name that supplies f and Jacobian values\n",
        "    x0 = initial guesses for x\n",
        "    es = convergence tolerance (default = 1.3−7)\n",
        "    maxit = iteration limit (default = 20)\n",
        "    Output:\n",
        "    x = solution\n",
        "    f = function values at the solution\n",
        "    ea = relative error\n",
        "    iter = number of iterations taken\n",
        "    \"\"\"\n",
        "    n,m = np.shape(x0) # get the number of equations in n\n",
        "    x = np.zeros((n,m))\n",
        "    for i in range(n): # initialize x\n",
        "        x[i] = x0[i]\n",
        "    for i in range(maxit):\n",
        "        f,J = fandJ(x) # get the function values and the Jacobian\n",
        "        dx = np.linalg.inv(J).dot(f) # Newton-Raphson iteration\n",
        "        x = x - dx\n",
        "        ers = dx/x\n",
        "        ea = max(abs(ers))\n",
        "        if ea < es: break # check for convergence\n",
        "    if i == maxit:\n",
        "        return 'iteration limit reached'\n",
        "    else:\n",
        "        return x,f,ea,i+1 # here if solution successful"
      ],
      "metadata": {
        "id": "TFt4ud_mwv6j"
      },
      "execution_count": 1,
      "outputs": []
    },
    {
      "cell_type": "code",
      "source": [
        "import numpy as np\n",
        "\n",
        "def fandJ(x):\n",
        "    \"\"\"\n",
        "    Function and Jacobian for the system of equations\n",
        "    Input:\n",
        "    x = current guesses for the variables\n",
        "    Output:\n",
        "    f = function values\n",
        "    J = Jacobian matrix\n",
        "    \"\"\"\n",
        "    # Calculate function values based on current guesses\n",
        "    f = np.matrix([[x[0, 0]**2 + x[0, 0] * x[1, 0] - 10],\n",
        "                    [x[1, 0] + 3 * x[0, 0] * x[1, 0]**2 - 57]])\n",
        "\n",
        "    # Calculate Jacobian matrix based on current guesses\n",
        "    J = np.matrix([[2 * x[0, 0] + x[1, 0], x[0, 0]],\n",
        "                    [3 * x[1, 0]**2, 1 + 6 * x[0, 0] * x[1, 0]]])\n",
        "\n",
        "    return f, J\n",
        "\n",
        "# Initial guesses\n",
        "x0 = np.matrix([[1.5], [3.5]])  # Initial guess for x1 and x2\n",
        "\n",
        "# Solve the equations using Newton-Raphson method\n",
        "solution = newtmult(fandJ, x0)\n",
        "\n",
        "# Print the results\n",
        "print(\"Solution:\", solution[0])\n",
        "print(\"Function values at the solution:\", solution[1])\n",
        "print(\"Relative error:\", solution[2])\n",
        "print(\"Number of iterations taken:\", solution[3])\n"
      ],
      "metadata": {
        "colab": {
          "base_uri": "https://localhost:8080/"
        },
        "id": "dzI29aqdp-8q",
        "outputId": "d9b5b14d-8976-42ee-e8ee-38f502f61b07"
      },
      "execution_count": 4,
      "outputs": [
        {
          "output_type": "stream",
          "name": "stdout",
          "text": [
            "Solution: [[2.]\n",
            " [3.]]\n",
            "Function values at the solution: [[1.06581410e-14]\n",
            " [2.23820962e-12]]\n",
            "Relative error: [[2.50076382e-14]]\n",
            "Number of iterations taken: 5\n"
          ]
        }
      ]
    },
    {
      "cell_type": "markdown",
      "source": [
        "**optimize.root function**\n",
        "\n",
        "\n"
      ],
      "metadata": {
        "id": "yXtU0G4j2vp3"
      }
    },
    {
      "cell_type": "code",
      "source": [
        "import numpy as np\n",
        "from scipy.optimize import root\n",
        "def f(x):\n",
        "    x1 = x[0]\n",
        "    x2 = x[1]\n",
        "    f1 = x1**2+x1*x2-10\n",
        "    f2 = x2+3*x1*x2**2-57\n",
        "    return np.array([f1,f2])\n",
        "x0 = np.matrix(' 1.5 ; 3.5 ')\n",
        "result = root(f,x0)\n",
        "xsoln = result.x\n",
        "print('Solution is:\\n',xsoln)\n"
      ],
      "metadata": {
        "colab": {
          "base_uri": "https://localhost:8080/"
        },
        "id": "pBkB6deb2z-2",
        "outputId": "0b3cf71f-b3ef-4c5f-fd4f-76c96f11d8b0"
      },
      "execution_count": 5,
      "outputs": [
        {
          "output_type": "stream",
          "name": "stdout",
          "text": [
            "Solution is:\n",
            " [2. 3.]\n"
          ]
        }
      ]
    },
    {
      "cell_type": "markdown",
      "source": [
        "# **4.scipy.optimize.root 함수(예제: hybr)**"
      ],
      "metadata": {
        "id": "8oukZtOO5z3J"
      }
    },
    {
      "cell_type": "code",
      "source": [
        "import numpy as np\n",
        "from scipy.optimize import root\n",
        "\n",
        "# 비선형 방정식 정의\n",
        "def equations(x):\n",
        "    f1 = -3 * x[0] + 12 * x[1] - 9\n",
        "    f2 = 10 * x[0] - 2 * x[1] - 8\n",
        "    return [f1, f2]\n",
        "\n",
        "# 초기 추정값\n",
        "x0 = [0, 0]\n",
        "\n",
        "# root 함수 사용 (hybr 방법 사용)\n",
        "solution = root(equations, x0, method='hybr')\n",
        "\n",
        "# 결과 출력\n",
        "if solution.success:\n",
        "    print(\"Solution:\", solution.x)\n",
        "    print(\"Function values at the solution:\", solution.fun)\n",
        "    print(\"Number of iterations:\",  solution.nfev)\n",
        "else:\n",
        "    print(\"Solution not found. Try different initial guesses.\")"
      ],
      "metadata": {
        "colab": {
          "base_uri": "https://localhost:8080/"
        },
        "id": "IbAdYeBX57SU",
        "outputId": "7412f167-5afd-4a9a-c7cf-bc5778465d4a"
      },
      "execution_count": 27,
      "outputs": [
        {
          "output_type": "stream",
          "name": "stdout",
          "text": [
            "Solution: [1. 1.]\n",
            "Function values at the solution: [3.55271368e-15 0.00000000e+00]\n",
            "Number of iterations: 5\n"
          ]
        }
      ]
    }
  ]
}