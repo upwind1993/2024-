{
  "nbformat": 4,
  "nbformat_minor": 0,
  "metadata": {
    "colab": {
      "provenance": [],
      "authorship_tag": "ABX9TyOWn1lZiOOGp1yuf8Rh2mag",
      "include_colab_link": true
    },
    "kernelspec": {
      "name": "python3",
      "display_name": "Python 3"
    },
    "language_info": {
      "name": "python"
    }
  },
  "cells": [
    {
      "cell_type": "markdown",
      "metadata": {
        "id": "view-in-github",
        "colab_type": "text"
      },
      "source": [
        "<a href=\"https://colab.research.google.com/github/upwind1993/Numerical-Analysis/blob/main/12%EC%9E%A5/GaussSeidel.ipynb\" target=\"_parent\"><img src=\"https://colab.research.google.com/assets/colab-badge.svg\" alt=\"Open In Colab\"/></a>"
      ]
    },
    {
      "cell_type": "code",
      "execution_count": 25,
      "metadata": {
        "id": "b-YfB_5evqg_"
      },
      "outputs": [],
      "source": [
        "def GaussSeidel(A,b,es=1.e-7,maxit=50):\n",
        "    \"\"\"\n",
        "    Implements the Gauss-Seidel method\n",
        "    to solve a set of linear algebraic equations\n",
        "    without relaxation\n",
        "    Input:\n",
        "    A = coefficient matris\n",
        "    b = constant vector\n",
        "    es = stopping criterion (default = 1.e−7)\n",
        "    maxit = maximum number of iterations (default=50)\n",
        "    Output:\n",
        "    x = solution vector\n",
        "    \"\"\"\n",
        "    n,m = np.shape(A)\n",
        "    if n != m :\n",
        "        return 'Coefficient matrix must be square'\n",
        "    C = np.zeros((n,n))\n",
        "    x = np.zeros((n,1))\n",
        "    for i in range(n): # set up C matrix with zeros on the diagonal\n",
        "        for j in range(n):\n",
        "            if i != j:\n",
        "                C[i,j] = A[i,j]\n",
        "    d = np.zeros((n,1))\n",
        "    for i in range(n): # divide C elements by A pivots\n",
        "        C[i,0:n] = C[i,0:n]/A[i,i]\n",
        "        d[i] = b[i]/A[i,i]\n",
        "    ea = np.zeros((n,1))\n",
        "    xold = np.zeros((n,1))\n",
        "\n",
        "    # Gauss-Seidel iteration\n",
        "    print(\"Iter     |          값(x1. x2, x3)           |         Error(x1, x2, x3)     \")\n",
        "    print(\"-----------------------------------------------------------------------------\")\n",
        "\n",
        "    for it in range(maxit): # Gauss-Seidel method\n",
        "        for i in range(n):\n",
        "            xold[i] = x[i] # save the x's for convergence test\n",
        "        for i in range(n):\n",
        "            x[i] = d[i] - C[i,:].dot(x) # update the x's 1-by-1\n",
        "            if x[i] != 0:\n",
        "                ea[i] = abs((x[i]-xold[i])/x[i]) # compute change error\n",
        "\n",
        "        # Print iteration number, x values, and error values\n",
        "        print(f\"{it+1:>4} | {np.squeeze(x).T} | {np.squeeze(ea).T}\")\n",
        "\n",
        "        if np.max(ea) < es: # exit for loop if stopping criterion met\n",
        "            break\n",
        "    if it == maxit: # check for maximum iteration exit\n",
        "        return 'maximum iterations reached'\n",
        "    else:\n",
        "        return x"
      ]
    },
    {
      "cell_type": "code",
      "source": [
        "import numpy as np\n",
        "\n",
        "A=  np.matrix('3. -0.1, -0.2; 0.1, 7.0, -0.3; 0.3, -0.2, 10.0')\n",
        "b = np.matrix('7.87; -19.3; 71.4')\n",
        "x = GaussSeidel(A,b)\n",
        "print(x)"
      ],
      "metadata": {
        "colab": {
          "base_uri": "https://localhost:8080/"
        },
        "id": "H08LvHHJ49Je",
        "outputId": "dcd83aed-6d7a-4a1e-f6b9-1a817b9941fa"
      },
      "execution_count": 26,
      "outputs": [
        {
          "output_type": "stream",
          "name": "stdout",
          "text": [
            "Iter     |          값(x1. x2, x3)           |         Error(x1, x2, x3)     \n",
            "-----------------------------------------------------------------------------\n",
            "   1 | [ 2.62333333 -2.79461905  7.00540762] | [1. 1. 1.]\n",
            "   2 | [ 2.99720654 -2.49972834  7.00008924] | [0.12474055 0.1179691  0.00075976]\n",
            "   3 | [ 3.00668167 -2.50009163  6.99979772] | [3.15135839e-03 1.45310546e-04 4.16468805e-05]\n",
            "   4 | [ 3.00665013 -2.50010367  6.99979842] | [1.04915118e-05 4.81702831e-06 1.00784010e-07]\n",
            "   5 | [ 3.00664977 -2.50010364  6.99979843] | [1.17873552e-07 1.41183162e-08 1.61977233e-09]\n",
            "   6 | [ 3.00664977 -2.50010364  6.99979843] | [6.42724373e-10 1.83316867e-10 6.97265514e-12]\n",
            "[[ 3.00664977]\n",
            " [-2.50010364]\n",
            " [ 6.99979843]]\n"
          ]
        }
      ]
    }
  ]
}