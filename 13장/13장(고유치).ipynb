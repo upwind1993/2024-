{
  "nbformat": 4,
  "nbformat_minor": 0,
  "metadata": {
    "colab": {
      "provenance": [],
      "authorship_tag": "ABX9TyMxJT25g87Ve1dhD8UcNxzI",
      "include_colab_link": true
    },
    "kernelspec": {
      "name": "python3",
      "display_name": "Python 3"
    },
    "language_info": {
      "name": "python"
    }
  },
  "cells": [
    {
      "cell_type": "markdown",
      "metadata": {
        "id": "view-in-github",
        "colab_type": "text"
      },
      "source": [
        "<a href=\"https://colab.research.google.com/github/upwind1993/Numerical-Analysis/blob/main/13%EC%9E%A5/13%EC%9E%A5(%EA%B3%A0%EC%9C%A0%EC%B9%98).ipynb\" target=\"_parent\"><img src=\"https://colab.research.google.com/assets/colab-badge.svg\" alt=\"Open In Colab\"/></a>"
      ]
    },
    {
      "cell_type": "markdown",
      "source": [
        "예제 13.1 행렬의 고윳값과 고유벡터"
      ],
      "metadata": {
        "id": "kvMMPDcvEiq3"
      }
    },
    {
      "cell_type": "code",
      "execution_count": 1,
      "metadata": {
        "colab": {
          "base_uri": "https://localhost:8080/"
        },
        "id": "c0lupbREEXl1",
        "outputId": "7322afd9-cc2f-441a-ceec-16720334a546"
      },
      "outputs": [
        {
          "output_type": "stream",
          "name": "stdout",
          "text": [
            "Roots are:\n",
            " [23.04467254 -3.23389171  7.4501013   3.73911787]\n"
          ]
        }
      ],
      "source": [
        "import numpy as np\n",
        "coeff = np.array([1., -31., 175., 282., -2076.])\n",
        "r = np.roots(coeff)\n",
        "print('Roots are:\\n',r)\n"
      ]
    },
    {
      "cell_type": "code",
      "source": [
        "import numpy as np\n",
        "A = np.array([[40.,-20.,0.],[-20.,40.,-20.],[0.,-20.,40.]])\n",
        "np.set_printoptions(precision=5)\n",
        "print(np.linalg.eigvals(A))\n"
      ],
      "metadata": {
        "colab": {
          "base_uri": "https://localhost:8080/"
        },
        "id": "3U47Sl3pLgpx",
        "outputId": "1b265996-c5b0-4dd8-ee1b-b569002df370"
      },
      "execution_count": 40,
      "outputs": [
        {
          "output_type": "stream",
          "name": "stdout",
          "text": [
            "[68.28427 40.      11.71573]\n"
          ]
        }
      ]
    },
    {
      "cell_type": "code",
      "source": [
        "e,v = np.linalg.eig(A)\n",
        "print('Eigenvalues are\\n',e)\n",
        "print('\\nEigenvector matrix is\\n',v)\n"
      ],
      "metadata": {
        "colab": {
          "base_uri": "https://localhost:8080/"
        },
        "id": "Lpz1mLONMaRq",
        "outputId": "fcd192d9-352b-46a5-fcc3-3a5ae4793371"
      },
      "execution_count": 41,
      "outputs": [
        {
          "output_type": "stream",
          "name": "stdout",
          "text": [
            "Eigenvalues are\n",
            " [68.28427 40.      11.71573]\n",
            "\n",
            "Eigenvector matrix is\n",
            " [[-5.00000e-01 -7.07107e-01  5.00000e-01]\n",
            " [ 7.07107e-01 -1.28296e-16  7.07107e-01]\n",
            " [-5.00000e-01  7.07107e-01  5.00000e-01]]\n"
          ]
        }
      ]
    },
    {
      "cell_type": "code",
      "source": [
        "import numpy as np\n",
        "A = np.array([[450.,-200.,0.],[-240.,420.,-180.],[0.,-225.,225.]])\n",
        "e,v = np.linalg.eig(A)\n",
        "print('\\nEigenvalues are:\\n',e)\n",
        "print('\\nEigenvectors are:\\n',v)"
      ],
      "metadata": {
        "colab": {
          "base_uri": "https://localhost:8080/"
        },
        "id": "qzVsZcH7MtB4",
        "outputId": "0ce262c4-8a78-4cc1-c232-abbe15d43bd3"
      },
      "execution_count": 42,
      "outputs": [
        {
          "output_type": "stream",
          "name": "stdout",
          "text": [
            "\n",
            "Eigenvalues are:\n",
            " [698.59819 339.47789  56.92392]\n",
            "\n",
            "Eigenvectors are:\n",
            " [[-0.58785 -0.63436  0.2913 ]\n",
            " [ 0.7307  -0.35055  0.57251]\n",
            " [-0.34714  0.68899  0.76641]]\n"
          ]
        }
      ]
    },
    {
      "cell_type": "code",
      "source": [
        "wn = np.sqrt(e)/2/np.pi\n",
        "print('\\nResonant frequencies in Hz:\\n',wn)"
      ],
      "metadata": {
        "colab": {
          "base_uri": "https://localhost:8080/"
        },
        "id": "TFCnm-nTMyiC",
        "outputId": "3054127c-8799-4348-b72a-30d7ac87afea"
      },
      "execution_count": 47,
      "outputs": [
        {
          "output_type": "stream",
          "name": "stdout",
          "text": [
            "\n",
            "Resonant frequencies in Hz:\n",
            " [4.20663 2.93242 1.20079]\n"
          ]
        }
      ]
    },
    {
      "cell_type": "code",
      "source": [
        "vt = np.zeros((3,3))\n",
        "for i in range(3):\n",
        "\t    vt[:,i] = v[:,i]/v[2,i]\n",
        "print('\\nScaled eigenvectors are:\\n',vt)"
      ],
      "metadata": {
        "colab": {
          "base_uri": "https://localhost:8080/"
        },
        "id": "DdW4WNeBM2UB",
        "outputId": "628f6a72-08ca-4b13-bd74-589765155da5"
      },
      "execution_count": 51,
      "outputs": [
        {
          "output_type": "stream",
          "name": "stdout",
          "text": [
            "\n",
            "Scaled eigenvectors are:\n",
            " [[ 1.6934  -0.9207   0.38008]\n",
            " [-2.10488 -0.50879  0.747  ]\n",
            " [ 1.       1.       1.     ]]\n"
          ]
        }
      ]
    },
    {
      "cell_type": "code",
      "source": [],
      "metadata": {
        "id": "JjnPldmFNCuo"
      },
      "execution_count": null,
      "outputs": []
    }
  ]
}