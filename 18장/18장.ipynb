{
  "nbformat": 4,
  "nbformat_minor": 0,
  "metadata": {
    "colab": {
      "provenance": [],
      "authorship_tag": "ABX9TyNMleWYk/2pZGTrqtA0LkdO",
      "include_colab_link": true
    },
    "kernelspec": {
      "name": "python3",
      "display_name": "Python 3"
    },
    "language_info": {
      "name": "python"
    }
  },
  "cells": [
    {
      "cell_type": "markdown",
      "metadata": {
        "id": "view-in-github",
        "colab_type": "text"
      },
      "source": [
        "<a href=\"https://colab.research.google.com/github/upwind1993/Numerical-Analysis/blob/main/18%EC%9E%A5/18%EC%9E%A5.ipynb\" target=\"_parent\"><img src=\"https://colab.research.google.com/assets/colab-badge.svg\" alt=\"Open In Colab\"/></a>"
      ]
    },
    {
      "cell_type": "markdown",
      "source": [
        "예제 18.2 이산 테이블에서 정보추출"
      ],
      "metadata": {
        "id": "EIOX4yHBd95X"
      }
    },
    {
      "cell_type": "code",
      "execution_count": 1,
      "metadata": {
        "id": "D2rtIP-9dzV2"
      },
      "outputs": [],
      "source": [
        "import numpy as np\n",
        "Matl = np.array(['Wheat' , 'Rice' , 'Millet', 'Polyethylene',\n",
        "                 'Corn', 'Polystyrene', 'Barley', 'Flaxseeds'])\n",
        "Prop = np.array(['Absolute Density', 'Bulk Density', 'Percent Void',\n",
        "                 'Particle Diameter', 'Shape Factor'])\n",
        "TableData = np.array([[1400., 865., 39.2, 3.61, 1.07],\n",
        "                     [1457., 905., 37.9, 2.72, 1.04],\n",
        "                     [1180., 727., 38.4, 1.99, 1.07],\n",
        "                     [ 922., 592., 35.8, 3.43, 1.02],\n",
        "                     [1342., 743., 44.6, 7.26, 1.50],\n",
        "                     [1058., 641., 39.4, 1.56, 1.14],\n",
        "                     [1279., 725., 43.4, 3.70, 1.14],\n",
        "                     [1129., 703., 37.8, 2.09, 1.05]])"
      ]
    },
    {
      "cell_type": "code",
      "source": [
        "def TableLookup2(Row,Col,RowNames,ColNames,TableData):\n",
        "    \"\"\"\n",
        "    Function for lookup in a two-dimensional table.\n",
        "    Input:\n",
        "        Row = name in row array\n",
        "        Col = name in column array\n",
        "        RowNames = row array\n",
        "        ColNames = column array\n",
        "        TableData = two-dimensional array of data in table\n",
        "    Output:\n",
        "        TableValue = value extracted from table\n",
        "    \"\"\"\n",
        "    n = len(RowNames) ; m = len(ColNames)\n",
        "    nt = np.size(TableData,0)\n",
        "    mt = np.size(TableData,1)\n",
        "    if n != nt or m != mt:\n",
        "        return 'table information does not conform in size'\n",
        "    ifind = False\n",
        "    for i in range(n):\n",
        "        if Row == RowNames[i]:\n",
        "            isel = i\n",
        "            ifind = True\n",
        "            break\n",
        "    if not ifind: return 'row name not found in table'\n",
        "    jfind = False\n",
        "    for j in range(m):\n",
        "        if Col == ColNames[j]:\n",
        "            jsel = j\n",
        "            jfind = True\n",
        "            break\n",
        "    if not jfind: return 'column name not found in table'\n",
        "    return TableData[isel,jsel]\n",
        "\n",
        "# 함수의 적용 예시\n",
        "MatlName = 'Corn'\n",
        "PropName = 'Bulk Density'\n",
        "TableValue = TableLookup2(MatlName,PropName,Matl,Prop,TableData)\n",
        "if type(TableValue) == type(str()):\n",
        "    print(TableValue)\n",
        "else:\n",
        "    print('{0:1} of {1:11} is {2:7.5g}'.format(PropName,MatlName,TableValue))\n"
      ],
      "metadata": {
        "colab": {
          "base_uri": "https://localhost:8080/"
        },
        "id": "-cF5xgiKeFZX",
        "outputId": "bea61f9d-7ce0-4907-f667-3926b0cad86d"
      },
      "execution_count": 11,
      "outputs": [
        {
          "output_type": "stream",
          "name": "stdout",
          "text": [
            "Bulk Density of Corn        is     743\n"
          ]
        }
      ]
    },
    {
      "cell_type": "code",
      "source": [
        "# 순차 검색 및 선형보간을 수행하는 파이썬 함수\n",
        "import numpy as np\n",
        "def TableLookup(x,y,xx):\n",
        "    n = len(x)\n",
        "    if n != len(y): return 'input arrays must be the same length'\n",
        "    if xx < x[0] or xx > x[n-1]:\n",
        "        return 'input value out of range of table'\n",
        "    for i in range(n):\n",
        "        if xx == x[i]:  # check for an exact match\n",
        "            return y[i]\n",
        "        elif x[i] > xx:  # check for upper interval\n",
        "            i2 = i\n",
        "            break\n",
        "    xint = (xx-x[i2-1])/(x[i2]-x[i2-1])*(y[i2]-y[i2-1])+y[i2-1]\n",
        "    return xint"
      ],
      "metadata": {
        "id": "2e1H-os_eZji"
      },
      "execution_count": 13,
      "outputs": []
    },
    {
      "cell_type": "code",
      "source": [
        "T = np.array([-40, 0., 20., 50., 100., 150., 200., 250.,\n",
        "              300., 400., 500.])\n",
        "rho = np.array([1.52, 1.29, 1.20, 1.09, 0.946, 0.935,\n",
        "                0.746, 0.675, 0.616, 0.525, 0.457])\n",
        "Tx = 350.\n",
        "rhox = TableLookup(T,rho,Tx)\n",
        "print(rhox)"
      ],
      "metadata": {
        "colab": {
          "base_uri": "https://localhost:8080/"
        },
        "id": "g3HdXQZ3e7JR",
        "outputId": "073f53ce-3fe5-414e-d66f-8ef837a222e8"
      },
      "execution_count": 15,
      "outputs": [
        {
          "output_type": "stream",
          "name": "stdout",
          "text": [
            "0.5705\n"
          ]
        }
      ]
    },
    {
      "cell_type": "code",
      "source": [
        "Tx = -40.\n",
        "rhox = TableLookup(T,rho,Tx)\n",
        "print(rhox)\n"
      ],
      "metadata": {
        "colab": {
          "base_uri": "https://localhost:8080/"
        },
        "id": "6yxrvySXf2jr",
        "outputId": "133a8329-41c3-4cfd-e180-d9490d4514c5"
      },
      "execution_count": 16,
      "outputs": [
        {
          "output_type": "stream",
          "name": "stdout",
          "text": [
            "1.52\n"
          ]
        }
      ]
    },
    {
      "cell_type": "code",
      "source": [
        "Tx = -501.\n",
        "rhox = TableLookup(T,rho,Tx)\n",
        "print(rhox)\n"
      ],
      "metadata": {
        "colab": {
          "base_uri": "https://localhost:8080/"
        },
        "id": "C1eoCDNSf42c",
        "outputId": "2d5f1100-0b27-4072-a3b1-1246fa338e51"
      },
      "execution_count": 17,
      "outputs": [
        {
          "output_type": "stream",
          "name": "stdout",
          "text": [
            "input value out of range of table\n"
          ]
        }
      ]
    }
  ]
}