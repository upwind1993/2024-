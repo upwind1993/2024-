{
  "nbformat": 4,
  "nbformat_minor": 0,
  "metadata": {
    "colab": {
      "provenance": [],
      "authorship_tag": "ABX9TyOYY6N0I6G4ZEw/JEgKqHrL",
      "include_colab_link": true
    },
    "kernelspec": {
      "name": "python3",
      "display_name": "Python 3"
    },
    "language_info": {
      "name": "python"
    }
  },
  "cells": [
    {
      "cell_type": "markdown",
      "metadata": {
        "id": "view-in-github",
        "colab_type": "text"
      },
      "source": [
        "<a href=\"https://colab.research.google.com/github/upwind1993/Numerical-Analysis/blob/main/19%EC%9E%A5/19%EC%9E%A5(%EC%88%98%EC%B9%98%EC%A0%81%EB%B6%84_%EA%B3%B5%EC%8B%9D).ipynb\" target=\"_parent\"><img src=\"https://colab.research.google.com/assets/colab-badge.svg\" alt=\"Open In Colab\"/></a>"
      ]
    },
    {
      "cell_type": "markdown",
      "source": [
        "# **19장 수치적분 공식** <br>\n",
        "1. 소개 및 배경 <br>\n",
        "2. Newton-Cotes 공식<br>\n",
        "3. 사다리꼴 공식 <br>\n",
        "4. Simpson 공식 <br>\n",
        "5. 고차 Newton-Cotes 공식 <br>\n",
        "6. 부등간격의 적분 <br>\n",
        "7. 개구간법,br>\n",
        "8. 다중적분\n"
      ],
      "metadata": {
        "id": "NJi0E5TxdBrw"
      }
    },
    {
      "cell_type": "markdown",
      "source": [
        "자유낙하하는 번지 점프하는 사람의 속도 <br>\n",
        "$ z(t) =\\int_{0}^{t} v(t)dt = \\int_{0}^{t} \\sqrt{\\frac{gm}{c_d}} tanh (\\sqrt{\\frac{gc_d}{m}}t)dt$\n",
        "<br>\n",
        "g = 9.21 $m/s^2$ <br>\n",
        "t= 3sec <br>\n",
        "m = 68.1kg <br>\n",
        "$C_d$ = 0.25 kg/m"
      ],
      "metadata": {
        "id": "yntDOTHldtht"
      }
    },
    {
      "cell_type": "code",
      "execution_count": 23,
      "metadata": {
        "id": "lAVrUcytc6XJ"
      },
      "outputs": [],
      "source": [
        "def trap(func,a,b,n=100):\n",
        "    \"\"\"\n",
        "    Composite trapezoidal rule quadrature\n",
        "    Input:\n",
        "        func = name of function to be integrated\n",
        "        a,b = integration limits\n",
        "        n = number of segments (default = 100)\n",
        "    Output:\n",
        "        I = estimate of integral\n",
        "    \"\"\"\n",
        "    if b <= a: return 'upper bound must be greater than lower bound'\n",
        "    x = a\n",
        "    h = (b-a)/n\n",
        "    s = func(a)\n",
        "    for i in range(n-1):\n",
        "        x = x + h\n",
        "        s = s + 2*func(x)\n",
        "    s = s + func(b)\n",
        "    I = (b-a)*s/2/n\n",
        "    return I\n"
      ]
    },
    {
      "cell_type": "code",
      "source": [
        "import numpy as np\n",
        "\n",
        "g = 9.81\n",
        "m = 68.1\n",
        "# t= 3\n",
        "cd  = 0.25\n",
        "\n",
        "zint = lambda t: np.sqrt(m*g/cd)*np.tanh(np.sqrt(g*cd/m)*t)\n",
        "z = trap(lambda t: np.sqrt(m*g/cd)*np.tanh(np.sqrt(g*cd/m)*t),0.,3, 100)\n",
        "print(z)"
      ],
      "metadata": {
        "colab": {
          "base_uri": "https://localhost:8080/"
        },
        "id": "xr3J70P6fVx1",
        "outputId": "cd8f0ba5-dea1-40c7-bfad-3fec53034a14"
      },
      "execution_count": 27,
      "outputs": [
        {
          "output_type": "stream",
          "name": "stdout",
          "text": [
            "41.94785498810134\n"
          ]
        }
      ]
    },
    {
      "cell_type": "code",
      "source": [],
      "metadata": {
        "id": "DCPyJH5MjX0X"
      },
      "execution_count": null,
      "outputs": []
    }
  ]
}