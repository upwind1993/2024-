{
  "nbformat": 4,
  "nbformat_minor": 0,
  "metadata": {
    "colab": {
      "provenance": [],
      "authorship_tag": "ABX9TyPue0NZnAN/AyjN1PTSINFr",
      "include_colab_link": true
    },
    "kernelspec": {
      "name": "python3",
      "display_name": "Python 3"
    },
    "language_info": {
      "name": "python"
    }
  },
  "cells": [
    {
      "cell_type": "markdown",
      "metadata": {
        "id": "view-in-github",
        "colab_type": "text"
      },
      "source": [
        "<a href=\"https://colab.research.google.com/github/upwind1993/Numerical-Analysis/blob/main/19%EC%9E%A5/19%EC%9E%A5(%EC%88%98%EC%B9%98%EC%A0%81%EB%B6%84_%EA%B3%B5%EC%8B%9D).ipynb\" target=\"_parent\"><img src=\"https://colab.research.google.com/assets/colab-badge.svg\" alt=\"Open In Colab\"/></a>"
      ]
    },
    {
      "cell_type": "markdown",
      "source": [
        "# **19장 수치적분 공식** <br>\n",
        "1. 소개 및 배경 <br>\n",
        "2. Newton-Cotes 공식<br>\n",
        "3. 사다리꼴 공식 <br>\n",
        "4. Simpson 공식 <br>\n",
        "5. 고차 Newton-Cotes 공식 <br>\n",
        "6. 부등간격의 적분 <br>\n",
        "7. 개구간법,br>\n",
        "8. 다중적분\n"
      ],
      "metadata": {
        "id": "NJi0E5TxdBrw"
      }
    },
    {
      "cell_type": "markdown",
      "source": [
        "자유낙하하는 번지 점프하는 사람의 속도 <br>\n",
        "$ z(t) =\\int_{0}^{t} v(t)dt = \\int_{0}^{t} \\sqrt{\\frac{gm}{c_d}} tanh (\\sqrt{\\frac{gc_d}{m}}t)dt$\n",
        "<br>\n",
        "g = 9.21 $m/s^2$ <br>\n",
        "t= 3sec <br>\n",
        "m = 68.1kg <br>\n",
        "$C_d$ = 0.25 kg/m"
      ],
      "metadata": {
        "id": "yntDOTHldtht"
      }
    },
    {
      "cell_type": "code",
      "execution_count": 23,
      "metadata": {
        "id": "lAVrUcytc6XJ"
      },
      "outputs": [],
      "source": [
        "def trap(func,a,b,n=100):\n",
        "    \"\"\"\n",
        "    Composite trapezoidal rule quadrature\n",
        "    Input:\n",
        "        func = name of function to be integrated\n",
        "        a,b = integration limits\n",
        "        n = number of segments (default = 100)\n",
        "    Output:\n",
        "        I = estimate of integral\n",
        "    \"\"\"\n",
        "    if b <= a: return 'upper bound must be greater than lower bound'\n",
        "    x = a\n",
        "    h = (b-a)/n\n",
        "    s = func(a)\n",
        "    for i in range(n-1):\n",
        "        x = x + h\n",
        "        s = s + 2*func(x)\n",
        "    s = s + func(b)\n",
        "    I = (b-a)*s/2/n\n",
        "    return I\n"
      ]
    },
    {
      "cell_type": "code",
      "source": [
        "import numpy as np\n",
        "\n",
        "g = 9.81\n",
        "m = 68.1\n",
        "# t= 3\n",
        "cd  = 0.25\n",
        "\n",
        "zint = lambda t: np.sqrt(m*g/cd)*np.tanh(np.sqrt(g*cd/m)*t)\n",
        "z = trap(lambda t: np.sqrt(m*g/cd)*np.tanh(np.sqrt(g*cd/m)*t),0.,3, 100)\n",
        "print(z)"
      ],
      "metadata": {
        "colab": {
          "base_uri": "https://localhost:8080/"
        },
        "id": "xr3J70P6fVx1",
        "outputId": "cd8f0ba5-dea1-40c7-bfad-3fec53034a14"
      },
      "execution_count": 27,
      "outputs": [
        {
          "output_type": "stream",
          "name": "stdout",
          "text": [
            "41.94785498810134\n"
          ]
        }
      ]
    },
    {
      "cell_type": "markdown",
      "source": [
        "19.6 부등간격의 적분 <br>\n",
        "trapuneq-1"
      ],
      "metadata": {
        "id": "DCPyJH5MjX0X"
      }
    },
    {
      "cell_type": "code",
      "source": [
        "def trapuneq(x,y):\n",
        "    \"\"\"\n",
        "    trapezoidal rule for unequally spaced data\n",
        "    returns an array of cumulative sums\n",
        "    Input:\n",
        "        x = array of independent variable values\n",
        "        y = array of dependent variable values\n",
        "        x and y arrays must be of equal length\n",
        "            and in ascending order of x\n",
        "    Output:\n",
        "        s = array of sums\n",
        "    \"\"\"\n",
        "    n = len(x)\n",
        "    if len(y) != n: return 'x and y arrays must be of equal length'\n",
        "    for i in range(n-1):\n",
        "        if x[i+1] < x[i]: return 'x array not in ascending order'\n",
        "    s = 0\n",
        "    for k in range(0,n-1):\n",
        "        s = s + (x[k+1]-x[k])*(y[k+1]+y[k])/2\n",
        "    return s"
      ],
      "metadata": {
        "id": "k0DBw0thuGdK"
      },
      "execution_count": 29,
      "outputs": []
    },
    {
      "cell_type": "code",
      "source": [
        "import numpy as np\n",
        "x = np.array([0.,0.12,0.22,0.32,0.36,0.4,0.44,0.54,0.64,0.7,0.8])\n",
        "y = 0.2 + 25.*x - 200.*x**2 + 675.*x**3 - 900.*x**4 + 400.*x**5\n",
        "Iest = trapuneq(x,y)\n",
        "print('Integral estimate = {0:6.4f}'.format(Iest))\n"
      ],
      "metadata": {
        "colab": {
          "base_uri": "https://localhost:8080/"
        },
        "id": "M_K3PS7RuQTL",
        "outputId": "3edd20d3-47a1-4071-deeb-b557c80a7437"
      },
      "execution_count": 30,
      "outputs": [
        {
          "output_type": "stream",
          "name": "stdout",
          "text": [
            "Integral estimate = 1.5948\n"
          ]
        }
      ]
    },
    {
      "cell_type": "markdown",
      "source": [
        "Python NumPy's Built-in Function: trapz"
      ],
      "metadata": {
        "id": "Fo1XaLHmuUZy"
      }
    },
    {
      "cell_type": "code",
      "source": [
        "import numpy as np\n",
        "x = np.array([0.,0.12,0.22,0.32,0.36,0.4,0.44,0.54,0.64,0.7,0.8])\n",
        "y = 0.2 + 25.*x - 200.*x**2 + 675.*x**3 - 900.*x**4 + 400.*x**5\n",
        "\n",
        "Iest = np.trapz(y,x)\n",
        "print('Integral estimate = {0:6.4f}'.format(Iest))"
      ],
      "metadata": {
        "colab": {
          "base_uri": "https://localhost:8080/"
        },
        "id": "QSq32-fxuSqI",
        "outputId": "e581a23d-25f2-4774-d78b-f21f482f5e21"
      },
      "execution_count": 32,
      "outputs": [
        {
          "output_type": "stream",
          "name": "stdout",
          "text": [
            "Integral estimate = 1.5948\n"
          ]
        }
      ]
    },
    {
      "cell_type": "markdown",
      "source": [
        "Python Function for Cumulative Integration – trap_cumulative - 1"
      ],
      "metadata": {
        "id": "3FV7oQhsuqZA"
      }
    },
    {
      "cell_type": "code",
      "source": [
        "def trap_cumulative(x,y):\n",
        "    \"\"\"\n",
        "    trapezoidal rule for unequally spaced data\n",
        "    returns an array of cumulative sums\n",
        "    Input:\n",
        "        x = array of independent variable values\n",
        "        y = array of dependent variable values\n",
        "        x and y arrays must be of equal length\n",
        "            and in ascending order of x\n",
        "    Output:\n",
        "        s = array of sums\n",
        "    \"\"\"\n",
        "    n = len(x)\n",
        "    if len(y) != n: return 'x and y arrays must be of equal length'\n",
        "    for i in range(n-1):\n",
        "        if x[i+1] < x[i]: return 'x array not in ascending order'\n",
        "    s = np.zeros((n))\n",
        "    for k in range(1,n):\n",
        "        s[k] = s[k-1] + (x[k]-x[k-1])*(y[k]+y[k-1])/2\n",
        "    return s"
      ],
      "metadata": {
        "id": "Q6A7Wshpum-C"
      },
      "execution_count": 33,
      "outputs": []
    },
    {
      "cell_type": "markdown",
      "source": [
        "Python Function for Cumulative Integration – trap_cumulative - 3"
      ],
      "metadata": {
        "id": "2HpKwF8Hu6UN"
      }
    },
    {
      "cell_type": "code",
      "source": [
        "import numpy as np\n",
        "mu = 0.\n",
        "sigma = 1.\n",
        "a = -5.\n",
        "b = 5.\n",
        "x = np.linspace(a,b,100)\n",
        "f = 1/np.sqrt(2*np.pi)/sigma*np.exp(-(x-mu)**2/sigma**2/2)\n",
        "F = trap_cumulative(x,f)\n",
        "import pylab\n",
        "pylab.plot(x,F,c='k')\n",
        "pylab.grid()\n",
        "pylab.xlabel('x')\n",
        "pylab.ylabel('cumulative probability - %')\n",
        "pylab.title('Cumulative Standard Normal Probability')\n"
      ],
      "metadata": {
        "colab": {
          "base_uri": "https://localhost:8080/",
          "height": 490
        },
        "id": "IVNNyinMu1Bh",
        "outputId": "96aa3acb-c729-432c-85ed-b4087026880d"
      },
      "execution_count": 35,
      "outputs": [
        {
          "output_type": "execute_result",
          "data": {
            "text/plain": [
              "Text(0.5, 1.0, 'Cumulative Standard Normal Probability')"
            ]
          },
          "metadata": {},
          "execution_count": 35
        },
        {
          "output_type": "display_data",
          "data": {
            "text/plain": [
              "<Figure size 640x480 with 1 Axes>"
            ],
            "image/png": "[encoded data removed]"
          },
          "metadata": {}
        }
      ]
    },
    {
      "cell_type": "markdown",
      "source": [
        "다중적분"
      ],
      "metadata": {
        "id": "dh3jXAxLvE_B"
      }
    },
    {
      "cell_type": "markdown",
      "source": [
        "Python SciPy integrate Functions: dblquad and tplquad"
      ],
      "metadata": {
        "id": "D5A_K7UqvLlW"
      }
    },
    {
      "cell_type": "code",
      "source": [
        "from scipy.integrate import dblquad\n",
        "def f(y,x):\n",
        "    return 2*x*y + 2*x - x**2 -2*y**2 + 72.\n",
        "Iest,Ierr = dblquad(f,0.,8.,lambda x: 0.,lambda x: 6.)\n",
        "print(Iest)\n",
        "print(Ierr)\n"
      ],
      "metadata": {
        "colab": {
          "base_uri": "https://localhost:8080/"
        },
        "id": "g1DW9reAvSDQ",
        "outputId": "86acd963-9132-455e-bc1d-47294e0abc65"
      },
      "execution_count": 36,
      "outputs": [
        {
          "output_type": "stream",
          "name": "stdout",
          "text": [
            "2816.0\n",
            "3.126388037344441e-11\n"
          ]
        }
      ]
    },
    {
      "cell_type": "code",
      "source": [],
      "metadata": {
        "id": "INWW1MFUvTri"
      },
      "execution_count": null,
      "outputs": []
    }
  ]
}