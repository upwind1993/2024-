{
  "nbformat": 4,
  "nbformat_minor": 0,
  "metadata": {
    "colab": {
      "provenance": [],
      "authorship_tag": "ABX9TyP0j45hsrdyQO7+5h/ddK9E",
      "include_colab_link": true
    },
    "kernelspec": {
      "name": "python3",
      "display_name": "Python 3"
    },
    "language_info": {
      "name": "python"
    }
  },
  "cells": [
    {
      "cell_type": "markdown",
      "metadata": {
        "id": "view-in-github",
        "colab_type": "text"
      },
      "source": [
        "<a href=\"https://colab.research.google.com/github/upwind1993/Numerical-Analysis/blob/main/20%EC%9E%A5/20%EC%9E%A5.ipynb\" target=\"_parent\"><img src=\"https://colab.research.google.com/assets/colab-badge.svg\" alt=\"Open In Colab\"/></a>"
      ]
    },
    {
      "cell_type": "markdown",
      "source": [
        "Python Function: romberg - 1\n",
        "\n"
      ],
      "metadata": {
        "id": "Tepa6OEic7DT"
      }
    },
    {
      "cell_type": "code",
      "execution_count": 16,
      "metadata": {
        "id": "Dvp_rNY9c4cG"
      },
      "outputs": [],
      "source": [
        "def romberg(func,a,b,es=1.e-8,maxit=30):\n",
        "    \"\"\"\n",
        "    Romberg integration quadrature\n",
        "    input:\n",
        "        func = name of function to be integrated\n",
        "        a, b = integration limits\n",
        "        es = desired relative error (default = 1.e−8)\n",
        "        maxit = iteration limit (defaul = 30)\n",
        "    output:\n",
        "        q = integral estimate\n",
        "        ea = approximate relative error achieved\n",
        "        iter = iterations taken\n",
        "    \"\"\"\n",
        "    n = 1\n",
        "    I = np.zeros((2*maxit,maxit+1))\n",
        "    I[0,0] = trap(func,a,b,n)\n",
        "    for iter in range(1,maxit+1):\n",
        "        n = 2**iter\n",
        "        I[iter,0] = trap(func,a,b,n)\n",
        "        for k in range(1,iter+1):\n",
        "            j = iter-k\n",
        "            I[j,k] = (4**(k)*I[j+1,k-1] - I[j,k-1])/(4**(k)-1)\n",
        "        ea = abs((I[0,iter]-I[1,iter-1])/I[0,iter])\n",
        "        if ea <= es: break\n",
        "    q = I[0,iter]\n",
        "    return q,ea,iter"
      ]
    },
    {
      "cell_type": "code",
      "source": [
        "def trap(func,a,b,n=100):\n",
        "    \"\"\"\n",
        "    Composite trapezoidal rule quadrature\n",
        "    Input:\n",
        "        func = name of function to be integrated\n",
        "        a,b = integration limits\n",
        "        n = number of segments (default = 100)\n",
        "    Output:\n",
        "        I = estimate of integral\n",
        "    \"\"\"\n",
        "    if b <= a: return 'upper bound must be greater than lower bound'\n",
        "    x = a\n",
        "    h = (b-a)/n\n",
        "    s = func(a)\n",
        "    for i in range(n-1):\n",
        "        x = x + h\n",
        "        s = s + 2*func(x)\n",
        "    s = s + func(b)\n",
        "    I = (b-a)*s/2/n\n",
        "    return I\n"
      ],
      "metadata": {
        "id": "qPm0aKYldl7f"
      },
      "execution_count": 17,
      "outputs": []
    },
    {
      "cell_type": "code",
      "source": [
        "import numpy as np\n",
        "def f(x):\n",
        "    return 0.2 + 25.*x - 200.*x**2 + 675.*x**3 - 900*x**4 + 400*x**5\n",
        "Ival,errel,iter = romberg(f,0.,0.8)\n",
        "print(Ival)\n",
        "print(errel)\n",
        "print(iter)\n"
      ],
      "metadata": {
        "colab": {
          "base_uri": "https://localhost:8080/"
        },
        "id": "0asGOnXsdK6O",
        "outputId": "3aadbf4f-445f-45e2-8cd1-34b306d9014f"
      },
      "execution_count": 18,
      "outputs": [
        {
          "output_type": "stream",
          "name": "stdout",
          "text": [
            "1.6405333333333318\n",
            "0.0\n",
            "3\n"
          ]
        }
      ]
    },
    {
      "cell_type": "markdown",
      "source": [
        "Python SciPy Built-in Function: romberg"
      ],
      "metadata": {
        "id": "N3cfxcxKduSz"
      }
    },
    {
      "cell_type": "code",
      "source": [
        "from scipy.integrate import romberg\n",
        "result = romberg(f,0.,0.8)\n",
        "print(result)"
      ],
      "metadata": {
        "colab": {
          "base_uri": "https://localhost:8080/"
        },
        "id": "zF3Fqjzgeqko",
        "outputId": "b01e343d-8149-48cd-f695-30b1ea807595"
      },
      "execution_count": 20,
      "outputs": [
        {
          "output_type": "stream",
          "name": "stdout",
          "text": [
            "1.6405333333333363\n"
          ]
        },
        {
          "output_type": "stream",
          "name": "stderr",
          "text": [
            "<ipython-input-20-9cf35cd720f4>:2: DeprecationWarning: `scipy.integrate.romberg` is deprecated as of SciPy 1.12.0and will be removed in SciPy 1.15.0. Please use`scipy.integrate.quad` instead.\n",
            "  result = romberg(f,0.,0.8)\n"
          ]
        }
      ]
    },
    {
      "cell_type": "markdown",
      "source": [
        "최신 버전의 Scipy 사용"
      ],
      "metadata": {
        "id": "izGbB__Peyp_"
      }
    },
    {
      "cell_type": "code",
      "source": [
        "from scipy.integrate import quad\n",
        "\n",
        "def f(x):\n",
        "    return 0.2 + 25.*x - 200.*x**2 + 675.*x**3 - 900*x**4 + 400*x**5\n",
        "\n",
        "result, error = quad(f, 0., 0.8)  # `quad` 함수는 적분 결과와 오류 추정치를 반환합니다.\n",
        "print(result)\n"
      ],
      "metadata": {
        "colab": {
          "base_uri": "https://localhost:8080/"
        },
        "id": "Bqgj92MtdYG-",
        "outputId": "47fbe86b-a38c-48ec-8dc9-c12d41c48451"
      },
      "execution_count": 19,
      "outputs": [
        {
          "output_type": "stream",
          "name": "stdout",
          "text": [
            "1.6405333333333307\n"
          ]
        }
      ]
    },
    {
      "cell_type": "markdown",
      "source": [
        "Python Function: quadadapt - 1"
      ],
      "metadata": {
        "id": "N98eKZOMe6xh"
      }
    },
    {
      "cell_type": "code",
      "source": [
        "def quadadapt(func,a,b,tol=1.e-8):\n",
        "    \"\"\"\n",
        "    Evaluates the definite integral of f(x) from a to b\n",
        "    \"\"\"\n",
        "    c = (a+b)/2\n",
        "    fa = func(a) ; fb = func(b) ; fc = func(c)\n",
        "    q = quadstep(func,a,b,tol,fa,fc,fb)\n",
        "    return q\n",
        "def quadstep(func,a,b,tol,fa,fc,fb):\n",
        "    h = b - a ; c = (a+b)/2\n",
        "    fd = func((a+c)/2) ; fe = func((c+b)/2)\n",
        "    q1 = h/6 * (fa + 4*fc + fb)\n",
        "    q2 = h/12 * (fa + 4*fd + 2*fc + 4*fe + fb)\n",
        "    if abs(q1-q2) < tol:\n",
        "        q = q2 + (q2-q1)/15\n",
        "    else:\n",
        "        qa = quadstep(func,a,c,tol,fa,fd,fc)\n",
        "        qb = quadstep(func,c,b,tol,fc,fe,fb)\n",
        "        q = qa + qb\n",
        "    return q\n"
      ],
      "metadata": {
        "id": "Ir-iOHttfB2x"
      },
      "execution_count": 21,
      "outputs": []
    },
    {
      "cell_type": "code",
      "source": [
        "def f(x):\n",
        "    return 0.2 + 25.*x - 200.*x**2 + 675.*x**3 - 900*x**4 + 400*x**5\n",
        "fint = quadadapt(f,0.,0.8)\n",
        "print(fint)\n"
      ],
      "metadata": {
        "colab": {
          "base_uri": "https://localhost:8080/"
        },
        "id": "dA6r1zoNfIGg",
        "outputId": "66ad4b9d-cfa5-42a5-dfc9-dfa351f07e5c"
      },
      "execution_count": 22,
      "outputs": [
        {
          "output_type": "stream",
          "name": "stdout",
          "text": [
            "1.6405333333333347\n"
          ]
        }
      ]
    },
    {
      "cell_type": "markdown",
      "source": [
        "예제 20.4 (적응식 구적법)"
      ],
      "metadata": {
        "id": "c10K6g1DfNgy"
      }
    },
    {
      "cell_type": "code",
      "source": [
        "from scipy.integrate import quad\n",
        "q = 0.3\n",
        "r = 0.9\n",
        "s = 6.\n",
        "def f(x):\n",
        "    return 1./((x-q)**2+0.01) + 1./((x-r)**2+0.04) - s\n",
        "Ival,abserr = quad(f,0.,1.)\n",
        "print(Ival)\n",
        "print(abserr)"
      ],
      "metadata": {
        "colab": {
          "base_uri": "https://localhost:8080/"
        },
        "id": "xj0OXMzEfTEp",
        "outputId": "f4b339c2-4702-46dc-95f2-313da3b24a48"
      },
      "execution_count": 24,
      "outputs": [
        {
          "output_type": "stream",
          "name": "stdout",
          "text": [
            "29.85832539549867\n",
            "4.346562362251671e-11\n"
          ]
        }
      ]
    }
  ]
}