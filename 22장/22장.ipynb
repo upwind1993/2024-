{
  "nbformat": 4,
  "nbformat_minor": 0,
  "metadata": {
    "colab": {
      "provenance": [],
      "authorship_tag": "ABX9TyN4s9xwT9VmFZvQuK/1Pbso",
      "include_colab_link": true
    },
    "kernelspec": {
      "name": "python3",
      "display_name": "Python 3"
    },
    "language_info": {
      "name": "python"
    }
  },
  "cells": [
    {
      "cell_type": "markdown",
      "metadata": {
        "id": "view-in-github",
        "colab_type": "text"
      },
      "source": [
        "<a href=\"https://colab.research.google.com/github/upwind1993/Numerical-Analysis/blob/main/22%EC%9E%A5/22%EC%9E%A5.ipynb\" target=\"_parent\"><img src=\"https://colab.research.google.com/assets/colab-badge.svg\" alt=\"Open In Colab\"/></a>"
      ]
    },
    {
      "cell_type": "code",
      "execution_count": 1,
      "metadata": {
        "id": "F_X3WuIkt87T"
      },
      "outputs": [],
      "source": [
        "import numpy as np\n",
        "def eulode(dydt,tspan,y0,h,*args):\n",
        "    \"\"\"\n",
        "    solve initial−value single ODEs with the Euler method\n",
        "    input:\n",
        "        dydt = function name that evaluates the derivative\n",
        "        tspan = array of [ti,tf] where\n",
        "            ti and tf are the initial and final values\n",
        "            of the independent variable\n",
        "        y0 = initial value of the dependent variable\n",
        "        h = step size\n",
        "        *args = additional argument to be passed to dydt\n",
        "    output:\n",
        "        t = an array of independent variable values\n",
        "        y − an array of dependent variable values\n",
        "    \"\"\"\n",
        "    ti = tspan[0] ; tf = tspan[1]\n",
        "    if not(tf>ti+h): return 'upper limit must be greater than lower limit'\n",
        "    t = []\n",
        "    t.append(ti) # start the t array with ti\n",
        "    nsteps = int((tf-ti)/h)\n",
        "    for i in range(nsteps): # add the rest of the t values\n",
        "        t.append(ti+(i+1)*h)\n",
        "    n = len(t)\n",
        "    if t[n-1] < tf: # check if t array is short of tf\n",
        "        t.append(tf)\n",
        "        n = n+1\n",
        "    y = np.zeros((n)) ; y[0] = y0 # initialize y array\n",
        "    for i in range(n-1):\n",
        "        y[i+1] = y[i] + dydt(t[i],y[i],*args)*(t[i+1]-t[i]) # Euler step\n",
        "    return t,y\n"
      ]
    },
    {
      "cell_type": "code",
      "source": [
        "dydt = lambda t,y,a,b,c: b*np.exp(a*t) - c*y\n",
        "tspan = np.array([0.,4.])\n",
        "y0 = 2.\n",
        "h = 1.0\n",
        "a = 0.8\n",
        "b = 4.\n",
        "c = 0.5\n",
        "t,y = eulode(dydt,tspan,y0,h,a,b,c)\n",
        "n = len(t)\n",
        "for i in range(n):\n",
        "    print('{0:4.1f}  {1:7.4f}'.format(t[i],y[i]))"
      ],
      "metadata": {
        "colab": {
          "base_uri": "https://localhost:8080/"
        },
        "id": "KVz6-GubuF8C",
        "outputId": "c037b497-e2df-4ac5-9e19-4842faf71487"
      },
      "execution_count": 4,
      "outputs": [
        {
          "output_type": "stream",
          "name": "stdout",
          "text": [
            " 0.0   2.0000\n",
            " 1.0   5.0000\n",
            " 2.0  11.4022\n",
            " 3.0  25.5132\n",
            " 4.0  56.8493\n"
          ]
        }
      ]
    },
    {
      "cell_type": "markdown",
      "source": [
        "rk4sys-1"
      ],
      "metadata": {
        "id": "bog5if2fuOlb"
      }
    },
    {
      "cell_type": "code",
      "source": [
        "def rk4sys(dydt,tspan,y0,h=-1.,*args):\n",
        "    \"\"\"\n",
        "    fourth−order Runge−Kutta method\n",
        "    for solving a system of ODEs\n",
        "    input:\n",
        "        dydt = function name that evaluates the derivatives\n",
        "        tspan = array of independent variable values where either\n",
        "            ti and tf are the initial and final values\n",
        "            of the independent variable when h is specified,\n",
        "            or the array specifies the values of t for\n",
        "            solution (h is not specified)\n",
        "        y0 = initial value of the dependent variable\n",
        "        h = step size, default = 0.1\n",
        "        *args = additional argument to be passed to dydt\n",
        "    output:\n",
        "        t = array of independent variable values\n",
        "        y = array of dependent variable values\n",
        "    \"\"\"\n",
        "    if np.any(np.diff(tspan) < 0): return 'tspan times must be ascending'\n",
        "    # check if only ti and tf spec'd and no value for h\n",
        "    if len(tspan) == 2 and h != -1.:\n",
        "           ti = tspan[0] ; tf = tspan[1]\n",
        "           nsteps = int((tf-ti)/h)\n",
        "           t = []\n",
        "           t.append(ti)\n",
        "           for i in range(nsteps): # add the rest of the t values\n",
        "               t.append(ti+(i+1)*h)\n",
        "           n = len(t)\n",
        "           if t[n-1] < tf: # check if t array is short of tf\n",
        "               t.append(tf)\n",
        "               n = n+1\n",
        "    else:\n",
        "        n = len(tspan) # here if tspan contains step times\n",
        "        t = tspan\n",
        "    neq = len(y0)\n",
        "    y = np.zeros((n,neq)) # set up 2−D array for dependent variables\n",
        "    for j in range(neq):\n",
        "      y[0,j] = y0[j] # set first elements to initial conditions\n",
        "    for i in range(n-1): # 4th order RK\n",
        "      hh = t[i+1] - t[i]\n",
        "      k1 = dydt(t[i],y[i,:],*args)\n",
        "      ymid = y[i,:] + k1*hh/2.\n",
        "      k2 = dydt(t[i]+hh/2.,ymid,*args)\n",
        "      ymid = y[i,:] + k2*hh/2.\n",
        "      k3 = dydt(t[i]+hh/2.,ymid,*args)\n",
        "      yend = y[i,:] + k3*hh\n",
        "      k4 = dydt(t[i]+hh,yend,*args)\n",
        "      phi = (k1 + 2.*(k2+k3) + k4)/6.\n",
        "      y[i+1,:] = y[i,:] + phi*hh\n",
        "    return t,y\n"
      ],
      "metadata": {
        "id": "wUM8z_Tvugc_"
      },
      "execution_count": 7,
      "outputs": []
    },
    {
      "cell_type": "code",
      "source": [
        "def dydtsys(t,y):\n",
        "    n = len(y)\n",
        "    dy = np.zeros((n))\n",
        "    dy[0] = -2.*y[0]**2 +2.*y[0] + y[1] - 1.\n",
        "    dy[1] = -y[0] -3*y[1]**2 +2.*y[1] + 2.\n",
        "    return dy\n"
      ],
      "metadata": {
        "id": "nRI3pZDJuoXz"
      },
      "execution_count": 8,
      "outputs": []
    },
    {
      "cell_type": "code",
      "source": [
        "h = 0.01\n",
        "ti = 0. ; tf = 2.\n",
        "tspan = [0.,2.]\n",
        "y0 = np.array([2.,0.])\n",
        "t,y = rk4sys(dydtsys,tspan,y0,h)\n",
        "import pylab\n",
        "pylab.plot(t,y[:,0],c='k',label='y1')\n",
        "pylab.plot(t,y[:,1],c='k',ls='--',label='y2')\n",
        "pylab.grid()\n",
        "pylab.xlabel('t')\n",
        "pylab.ylabel('y')\n",
        "pylab.legend()"
      ],
      "metadata": {
        "colab": {
          "base_uri": "https://localhost:8080/",
          "height": 468
        },
        "id": "oRhOi7ATvU-a",
        "outputId": "3b98e6ac-8e5b-4d83-dcf5-20632e7bbb8c"
      },
      "execution_count": 9,
      "outputs": [
        {
          "output_type": "execute_result",
          "data": {
            "text/plain": [
              "<matplotlib.legend.Legend at 0x789936dda260>"
            ]
          },
          "metadata": {},
          "execution_count": 9
        },
        {
          "output_type": "display_data",
          "data": {
            "text/plain": [
              "<Figure size 640x480 with 1 Axes>"
            ],
            "image/png": "[encoded data removed]"
          },
          "metadata": {}
        }
      ]
    }
  ]
}