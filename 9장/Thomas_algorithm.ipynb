{
  "nbformat": 4,
  "nbformat_minor": 0,
  "metadata": {
    "colab": {
      "provenance": [],
      "authorship_tag": "ABX9TyNklPw27ZsupTJCVa6Iyysk",
      "include_colab_link": true
    },
    "kernelspec": {
      "name": "python3",
      "display_name": "Python 3"
    },
    "language_info": {
      "name": "python"
    }
  },
  "cells": [
    {
      "cell_type": "markdown",
      "metadata": {
        "id": "view-in-github",
        "colab_type": "text"
      },
      "source": [
        "<a href=\"https://colab.research.google.com/github/upwind1993/Numerical-Analysis/blob/main/9%EC%9E%A5/Thomas_algorithm.ipynb\" target=\"_parent\"><img src=\"https://colab.research.google.com/assets/colab-badge.svg\" alt=\"Open In Colab\"/></a>"
      ]
    },
    {
      "cell_type": "code",
      "source": [
        "import numpy as np\n",
        "\n",
        "def thomas_algorithm(a, b, c, d):\n",
        "    \"\"\"\n",
        "    a: 하부 대각선의 원소들 (길이 n-1)\n",
        "    b: 주 대각선의 원소들 (길이 n)\n",
        "    c: 상부 대각선의 원소들 (길이 n-1)\n",
        "    d: 상수 벡터 (길이 n)\n",
        "    \"\"\"\n",
        "    n = len(b)\n",
        "\n",
        "    # Step 1: Forward elimination (계산의 중간값들을 저장)\n",
        "    for i in range(1, n):\n",
        "        m = a[i-1] / b[i-1]  # 소거 비율 계산\n",
        "        b[i] = b[i] - m * c[i-1]  # 주 대각선 업데이트\n",
        "        d[i] = d[i] - m * d[i-1]  # 상수 벡터 업데이트\n",
        "\n",
        "    # Step 2: Back substitution\n",
        "    x = np.zeros(n)\n",
        "    x[-1] = d[-1] / b[-1]  # 마지막 해 계산\n",
        "\n",
        "    for i in range(n-2, -1, -1):\n",
        "        x[i] = (d[i] - c[i] * x[i+1]) / b[i]  # 나머지 해 계산\n",
        "\n",
        "    return x\n",
        "\n",
        "# 예시 행렬의 계수들\n",
        "a = np.array([1.0, 1.0, 1.0])  # 하부 대각선 (n-1)\n",
        "b = np.array([4.0, 4.0, 4.0, 4.0])  # 주 대각선 (n)\n",
        "c = np.array([1.0, 1.0, 1.0])  # 상부 대각선 (n-1)\n",
        "d = np.array([5.0, 5.0, 5.0, 5.0])  # 상수 벡터 (n)\n",
        "\n",
        "# 토마스 알고리즘을 사용해 방정식을 푼다\n",
        "x = thomas_algorithm(a, b, c, d)\n",
        "print(\"해:\", x)\n"
      ],
      "metadata": {
        "colab": {
          "base_uri": "https://localhost:8080/"
        },
        "id": "y1s1Bt3E-rR9",
        "outputId": "8f1d1a40-99e7-4ae8-ce42-2f3e26d25e52"
      },
      "execution_count": 7,
      "outputs": [
        {
          "output_type": "stream",
          "name": "stdout",
          "text": [
            "해: [1.05263158 0.78947368 0.78947368 1.05263158]\n"
          ]
        }
      ]
    }
  ]
}